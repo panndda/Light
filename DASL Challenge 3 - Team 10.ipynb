{
 "cells": [
  {
   "cell_type": "markdown",
   "metadata": {
    "id": "Gc8x8QimJY_H"
   },
   "source": [
    "# DASL Challenge 3"
   ]
  },
  {
   "cell_type": "markdown",
   "metadata": {
    "id": "NqikjkWwJY_L"
   },
   "source": [
    "### Context\n",
    "\n",
    "The number of restaurants in New York is increasing day by day. Lots of students and busy professionals rely on those restaurants due to their hectic lifestyles. Online food delivery service is a great option for them. It provides them with good food from their favorite restaurants. A food aggregator company FoodHub offers access to multiple restaurants through a single smartphone app.\n",
    "\n",
    "The app allows the restaurants to receive a direct online order from a customer. The app assigns a delivery person from the company to pick up the order after it is confirmed by the restaurant. The delivery person then uses the map to reach the restaurant and waits for the food package. Once the food package is handed over to the delivery person, he/she confirms the pick-up in the app and travels to the customer's location to deliver the food. The delivery person confirms the drop-off in the app after delivering the food package to the customer. The customer can rate the order in the app. The food aggregator earns money by collecting a fixed margin of the delivery order from the restaurants.\n",
    "\n",
    "### Objective\n",
    "\n",
    "The food aggregator company has stored the data of the different orders made by the registered customers in their online portal. They want to analyze the data to get a fair idea about the demand of different restaurants which will help them in enhancing their customer experience. Suppose you are hired as a Data Scientist in this company and the Data Science team has shared some of the key questions that need to be answered. Perform the data analysis to find answers to these questions that will help the company to improve the business. \n",
    "\n",
    "### Data Description\n",
    "\n",
    "The data contains the different data related to a food order. The detailed data dictionary is given below.\n",
    "\n",
    "### Data Dictionary\n",
    "\n",
    "* order_id: Unique ID of the order\n",
    "* customer_id: ID of the customer who ordered the food\n",
    "* restaurant_name: Name of the restaurant\n",
    "* cuisine_type: Cuisine ordered by the customer\n",
    "* cost: Cost of the order\n",
    "* day_of_the_week: Indicates whether the order is placed on a weekday or weekend (The weekday is from Monday to Friday and the weekend is Saturday and Sunday)\n",
    "* rating: Rating given by the customer out of 5\n",
    "* food_preparation_time: Time (in minutes) taken by the restaurant to prepare the food. This is calculated by taking the difference between the timestamps of the restaurant's order confirmation and the delivery person's pick-up confirmation.\n",
    "* delivery_time: Time (in minutes) taken by the delivery person to deliver the food package. This is calculated by taking the difference between the timestamps of the delivery person's pick-up confirmation and drop-off information"
   ]
  },
  {
   "cell_type": "markdown",
   "metadata": {
    "id": "cEtNUxNAJY_M"
   },
   "source": [
    "### Let us start by importing the required libraries"
   ]
  },
  {
   "cell_type": "code",
   "execution_count": 2,
   "metadata": {},
   "outputs": [],
   "source": [
    "# import libraries for data manipulation and data visualization\n",
    "import numpy as np\n",
    "import pandas as pd\n",
    "import matplotlib.pyplot as plt\n",
    "%matplotlib inline\n",
    "import seaborn as sns"
   ]
  },
  {
   "cell_type": "markdown",
   "metadata": {
    "id": "AdracY0HJY_O"
   },
   "source": [
    "### Understanding the structure of the data"
   ]
  },
  {
   "cell_type": "code",
   "execution_count": 3,
   "metadata": {},
   "outputs": [
    {
     "data": {
      "text/html": [
       "<div>\n",
       "<style scoped>\n",
       "    .dataframe tbody tr th:only-of-type {\n",
       "        vertical-align: middle;\n",
       "    }\n",
       "\n",
       "    .dataframe tbody tr th {\n",
       "        vertical-align: top;\n",
       "    }\n",
       "\n",
       "    .dataframe thead th {\n",
       "        text-align: right;\n",
       "    }\n",
       "</style>\n",
       "<table border=\"1\" class=\"dataframe\">\n",
       "  <thead>\n",
       "    <tr style=\"text-align: right;\">\n",
       "      <th></th>\n",
       "      <th>order_id</th>\n",
       "      <th>customer_id</th>\n",
       "      <th>restaurant_name</th>\n",
       "      <th>cuisine_type</th>\n",
       "      <th>cost_of_the_order</th>\n",
       "      <th>day_of_the_week</th>\n",
       "      <th>rating</th>\n",
       "      <th>food_preparation_time</th>\n",
       "      <th>delivery_time</th>\n",
       "    </tr>\n",
       "  </thead>\n",
       "  <tbody>\n",
       "    <tr>\n",
       "      <th>0</th>\n",
       "      <td>1477147</td>\n",
       "      <td>337525</td>\n",
       "      <td>Hangawi</td>\n",
       "      <td>Korean</td>\n",
       "      <td>30.75</td>\n",
       "      <td>Weekend</td>\n",
       "      <td>Not given</td>\n",
       "      <td>25</td>\n",
       "      <td>20</td>\n",
       "    </tr>\n",
       "    <tr>\n",
       "      <th>1</th>\n",
       "      <td>1477685</td>\n",
       "      <td>358141</td>\n",
       "      <td>Blue Ribbon Sushi Izakaya</td>\n",
       "      <td>Japanese</td>\n",
       "      <td>12.08</td>\n",
       "      <td>Weekend</td>\n",
       "      <td>Not given</td>\n",
       "      <td>25</td>\n",
       "      <td>23</td>\n",
       "    </tr>\n",
       "    <tr>\n",
       "      <th>2</th>\n",
       "      <td>1477070</td>\n",
       "      <td>66393</td>\n",
       "      <td>Cafe Habana</td>\n",
       "      <td>Mexican</td>\n",
       "      <td>12.23</td>\n",
       "      <td>Weekday</td>\n",
       "      <td>5</td>\n",
       "      <td>23</td>\n",
       "      <td>28</td>\n",
       "    </tr>\n",
       "    <tr>\n",
       "      <th>3</th>\n",
       "      <td>1477334</td>\n",
       "      <td>106968</td>\n",
       "      <td>Blue Ribbon Fried Chicken</td>\n",
       "      <td>American</td>\n",
       "      <td>29.20</td>\n",
       "      <td>Weekend</td>\n",
       "      <td>3</td>\n",
       "      <td>25</td>\n",
       "      <td>15</td>\n",
       "    </tr>\n",
       "    <tr>\n",
       "      <th>4</th>\n",
       "      <td>1478249</td>\n",
       "      <td>76942</td>\n",
       "      <td>Dirty Bird to Go</td>\n",
       "      <td>American</td>\n",
       "      <td>11.59</td>\n",
       "      <td>Weekday</td>\n",
       "      <td>4</td>\n",
       "      <td>25</td>\n",
       "      <td>24</td>\n",
       "    </tr>\n",
       "    <tr>\n",
       "      <th>5</th>\n",
       "      <td>1477224</td>\n",
       "      <td>147468</td>\n",
       "      <td>Tamarind TriBeCa</td>\n",
       "      <td>Indian</td>\n",
       "      <td>25.22</td>\n",
       "      <td>Weekday</td>\n",
       "      <td>3</td>\n",
       "      <td>20</td>\n",
       "      <td>24</td>\n",
       "    </tr>\n",
       "    <tr>\n",
       "      <th>6</th>\n",
       "      <td>1477894</td>\n",
       "      <td>157711</td>\n",
       "      <td>The Meatball Shop</td>\n",
       "      <td>Italian</td>\n",
       "      <td>6.07</td>\n",
       "      <td>Weekend</td>\n",
       "      <td>Not given</td>\n",
       "      <td>28</td>\n",
       "      <td>21</td>\n",
       "    </tr>\n",
       "    <tr>\n",
       "      <th>7</th>\n",
       "      <td>1477859</td>\n",
       "      <td>89574</td>\n",
       "      <td>Barbounia</td>\n",
       "      <td>Mediterranean</td>\n",
       "      <td>5.97</td>\n",
       "      <td>Weekday</td>\n",
       "      <td>3</td>\n",
       "      <td>33</td>\n",
       "      <td>30</td>\n",
       "    </tr>\n",
       "    <tr>\n",
       "      <th>8</th>\n",
       "      <td>1477174</td>\n",
       "      <td>121706</td>\n",
       "      <td>Anjappar Chettinad</td>\n",
       "      <td>Indian</td>\n",
       "      <td>16.44</td>\n",
       "      <td>Weekday</td>\n",
       "      <td>5</td>\n",
       "      <td>21</td>\n",
       "      <td>26</td>\n",
       "    </tr>\n",
       "    <tr>\n",
       "      <th>9</th>\n",
       "      <td>1477311</td>\n",
       "      <td>39705</td>\n",
       "      <td>Bukhara Grill</td>\n",
       "      <td>Indian</td>\n",
       "      <td>7.18</td>\n",
       "      <td>Weekday</td>\n",
       "      <td>5</td>\n",
       "      <td>29</td>\n",
       "      <td>26</td>\n",
       "    </tr>\n",
       "  </tbody>\n",
       "</table>\n",
       "</div>"
      ],
      "text/plain": [
       "   order_id  customer_id            restaurant_name   cuisine_type  \\\n",
       "0   1477147       337525                    Hangawi         Korean   \n",
       "1   1477685       358141  Blue Ribbon Sushi Izakaya       Japanese   \n",
       "2   1477070        66393                Cafe Habana        Mexican   \n",
       "3   1477334       106968  Blue Ribbon Fried Chicken       American   \n",
       "4   1478249        76942           Dirty Bird to Go       American   \n",
       "5   1477224       147468           Tamarind TriBeCa         Indian   \n",
       "6   1477894       157711          The Meatball Shop        Italian   \n",
       "7   1477859        89574                  Barbounia  Mediterranean   \n",
       "8   1477174       121706         Anjappar Chettinad         Indian   \n",
       "9   1477311        39705              Bukhara Grill         Indian   \n",
       "\n",
       "   cost_of_the_order day_of_the_week     rating  food_preparation_time  \\\n",
       "0              30.75         Weekend  Not given                     25   \n",
       "1              12.08         Weekend  Not given                     25   \n",
       "2              12.23         Weekday          5                     23   \n",
       "3              29.20         Weekend          3                     25   \n",
       "4              11.59         Weekday          4                     25   \n",
       "5              25.22         Weekday          3                     20   \n",
       "6               6.07         Weekend  Not given                     28   \n",
       "7               5.97         Weekday          3                     33   \n",
       "8              16.44         Weekday          5                     21   \n",
       "9               7.18         Weekday          5                     29   \n",
       "\n",
       "   delivery_time  \n",
       "0             20  \n",
       "1             23  \n",
       "2             28  \n",
       "3             15  \n",
       "4             24  \n",
       "5             24  \n",
       "6             21  \n",
       "7             30  \n",
       "8             26  \n",
       "9             26  "
      ]
     },
     "execution_count": 3,
     "metadata": {},
     "output_type": "execute_result"
    }
   ],
   "source": [
    "#Read the data from the csv file\n",
    "orders_foodhub = pd.read_csv('foodhub-order.csv')\n",
    "\n",
    "#Print the first 10 rows\n",
    "orders_foodhub.head(10)"
   ]
  },
  {
   "cell_type": "markdown",
   "metadata": {
    "id": "c3kenV4vJY_Q"
   },
   "source": [
    "### **Question 1:** How many rows and columns are present in the data?"
   ]
  },
  {
   "cell_type": "code",
   "execution_count": 6,
   "metadata": {},
   "outputs": [
    {
     "data": {
      "text/plain": [
       "(1898, 9)"
      ]
     },
     "execution_count": 6,
     "metadata": {},
     "output_type": "execute_result"
    }
   ],
   "source": [
    "#Print the number of rows and columns in the orders_foodhub table\n",
    "orders_foodhub.shape"
   ]
  },
  {
   "cell_type": "markdown",
   "metadata": {
    "id": "jRXakVrUJY_R"
   },
   "source": [
    "### **Question 2:** What are the datatypes of the different columns in the dataset? (The info() function can be used)"
   ]
  },
  {
   "cell_type": "code",
   "execution_count": 7,
   "metadata": {},
   "outputs": [
    {
     "name": "stdout",
     "output_type": "stream",
     "text": [
      "<class 'pandas.core.frame.DataFrame'>\n",
      "RangeIndex: 1898 entries, 0 to 1897\n",
      "Data columns (total 9 columns):\n",
      " #   Column                 Non-Null Count  Dtype  \n",
      "---  ------                 --------------  -----  \n",
      " 0   order_id               1898 non-null   int64  \n",
      " 1   customer_id            1898 non-null   int64  \n",
      " 2   restaurant_name        1898 non-null   object \n",
      " 3   cuisine_type           1898 non-null   object \n",
      " 4   cost_of_the_order      1898 non-null   float64\n",
      " 5   day_of_the_week        1898 non-null   object \n",
      " 6   rating                 1898 non-null   object \n",
      " 7   food_preparation_time  1898 non-null   int64  \n",
      " 8   delivery_time          1898 non-null   int64  \n",
      "dtypes: float64(1), int64(4), object(4)\n",
      "memory usage: 133.6+ KB\n"
     ]
    }
   ],
   "source": [
    "#To print different columns in the table, we use info() function\n",
    "orders_foodhub.info()"
   ]
  },
  {
   "cell_type": "markdown",
   "metadata": {},
   "source": [
    "##### OBSERVATIONS:\n",
    "- The data consists of three distinct data types: int64, float64, and object.\n",
    "- One column, cost_of_the_order, is of float64 data type.\n",
    "- Four columns, namely order_id, customer_id, food_preparation_time, and delivery_time, are of int64 data type.\n",
    "- Four columns, specifically restaurant_name, cuisine_type, day_of_the_week, and rating, are of object data type."
   ]
  },
  {
   "cell_type": "markdown",
   "metadata": {
    "id": "pF_92MN6JY_S"
   },
   "source": [
    "### **Question 3:** Are there any missing values in the data? If yes, treat them using an appropriate method. "
   ]
  },
  {
   "cell_type": "code",
   "execution_count": 8,
   "metadata": {},
   "outputs": [
    {
     "data": {
      "text/plain": [
       "order_id                 0\n",
       "customer_id              0\n",
       "restaurant_name          0\n",
       "cuisine_type             0\n",
       "cost_of_the_order        0\n",
       "day_of_the_week          0\n",
       "rating                   0\n",
       "food_preparation_time    0\n",
       "delivery_time            0\n",
       "dtype: int64"
      ]
     },
     "execution_count": 8,
     "metadata": {},
     "output_type": "execute_result"
    }
   ],
   "source": [
    "orders_foodhub.isnull().sum()"
   ]
  },
  {
   "cell_type": "markdown",
   "metadata": {},
   "source": [
    "##### OBSERVATION:\n",
    "- Upon initial inspection, it appears that all columns in the data do not contain any null values. As a result, there is no requirement for addressing missing values."
   ]
  },
  {
   "cell_type": "markdown",
   "metadata": {
    "id": "MnJo7MWrJY_S"
   },
   "source": [
    "### **Question 4:** Check the statistical summary of the data. What is the minimum, average, and maximum time it takes for food to be prepared once an order is placed? "
   ]
  },
  {
   "cell_type": "code",
   "execution_count": 9,
   "metadata": {},
   "outputs": [
    {
     "data": {
      "text/html": [
       "<div>\n",
       "<style scoped>\n",
       "    .dataframe tbody tr th:only-of-type {\n",
       "        vertical-align: middle;\n",
       "    }\n",
       "\n",
       "    .dataframe tbody tr th {\n",
       "        vertical-align: top;\n",
       "    }\n",
       "\n",
       "    .dataframe thead th {\n",
       "        text-align: right;\n",
       "    }\n",
       "</style>\n",
       "<table border=\"1\" class=\"dataframe\">\n",
       "  <thead>\n",
       "    <tr style=\"text-align: right;\">\n",
       "      <th></th>\n",
       "      <th>order_id</th>\n",
       "      <th>customer_id</th>\n",
       "      <th>restaurant_name</th>\n",
       "      <th>cuisine_type</th>\n",
       "      <th>cost_of_the_order</th>\n",
       "      <th>day_of_the_week</th>\n",
       "      <th>rating</th>\n",
       "      <th>food_preparation_time</th>\n",
       "      <th>delivery_time</th>\n",
       "    </tr>\n",
       "  </thead>\n",
       "  <tbody>\n",
       "    <tr>\n",
       "      <th>count</th>\n",
       "      <td>1.898000e+03</td>\n",
       "      <td>1898.000000</td>\n",
       "      <td>1898</td>\n",
       "      <td>1898</td>\n",
       "      <td>1898.000000</td>\n",
       "      <td>1898</td>\n",
       "      <td>1898</td>\n",
       "      <td>1898.000000</td>\n",
       "      <td>1898.000000</td>\n",
       "    </tr>\n",
       "    <tr>\n",
       "      <th>unique</th>\n",
       "      <td>NaN</td>\n",
       "      <td>NaN</td>\n",
       "      <td>178</td>\n",
       "      <td>14</td>\n",
       "      <td>NaN</td>\n",
       "      <td>2</td>\n",
       "      <td>4</td>\n",
       "      <td>NaN</td>\n",
       "      <td>NaN</td>\n",
       "    </tr>\n",
       "    <tr>\n",
       "      <th>top</th>\n",
       "      <td>NaN</td>\n",
       "      <td>NaN</td>\n",
       "      <td>Shake Shack</td>\n",
       "      <td>American</td>\n",
       "      <td>NaN</td>\n",
       "      <td>Weekend</td>\n",
       "      <td>Not given</td>\n",
       "      <td>NaN</td>\n",
       "      <td>NaN</td>\n",
       "    </tr>\n",
       "    <tr>\n",
       "      <th>freq</th>\n",
       "      <td>NaN</td>\n",
       "      <td>NaN</td>\n",
       "      <td>219</td>\n",
       "      <td>584</td>\n",
       "      <td>NaN</td>\n",
       "      <td>1351</td>\n",
       "      <td>736</td>\n",
       "      <td>NaN</td>\n",
       "      <td>NaN</td>\n",
       "    </tr>\n",
       "    <tr>\n",
       "      <th>mean</th>\n",
       "      <td>1.477496e+06</td>\n",
       "      <td>171168.478398</td>\n",
       "      <td>NaN</td>\n",
       "      <td>NaN</td>\n",
       "      <td>16.498851</td>\n",
       "      <td>NaN</td>\n",
       "      <td>NaN</td>\n",
       "      <td>27.371970</td>\n",
       "      <td>24.161749</td>\n",
       "    </tr>\n",
       "    <tr>\n",
       "      <th>std</th>\n",
       "      <td>5.480497e+02</td>\n",
       "      <td>113698.139743</td>\n",
       "      <td>NaN</td>\n",
       "      <td>NaN</td>\n",
       "      <td>7.483812</td>\n",
       "      <td>NaN</td>\n",
       "      <td>NaN</td>\n",
       "      <td>4.632481</td>\n",
       "      <td>4.972637</td>\n",
       "    </tr>\n",
       "    <tr>\n",
       "      <th>min</th>\n",
       "      <td>1.476547e+06</td>\n",
       "      <td>1311.000000</td>\n",
       "      <td>NaN</td>\n",
       "      <td>NaN</td>\n",
       "      <td>4.470000</td>\n",
       "      <td>NaN</td>\n",
       "      <td>NaN</td>\n",
       "      <td>20.000000</td>\n",
       "      <td>15.000000</td>\n",
       "    </tr>\n",
       "    <tr>\n",
       "      <th>25%</th>\n",
       "      <td>1.477021e+06</td>\n",
       "      <td>77787.750000</td>\n",
       "      <td>NaN</td>\n",
       "      <td>NaN</td>\n",
       "      <td>12.080000</td>\n",
       "      <td>NaN</td>\n",
       "      <td>NaN</td>\n",
       "      <td>23.000000</td>\n",
       "      <td>20.000000</td>\n",
       "    </tr>\n",
       "    <tr>\n",
       "      <th>50%</th>\n",
       "      <td>1.477496e+06</td>\n",
       "      <td>128600.000000</td>\n",
       "      <td>NaN</td>\n",
       "      <td>NaN</td>\n",
       "      <td>14.140000</td>\n",
       "      <td>NaN</td>\n",
       "      <td>NaN</td>\n",
       "      <td>27.000000</td>\n",
       "      <td>25.000000</td>\n",
       "    </tr>\n",
       "    <tr>\n",
       "      <th>75%</th>\n",
       "      <td>1.477970e+06</td>\n",
       "      <td>270525.000000</td>\n",
       "      <td>NaN</td>\n",
       "      <td>NaN</td>\n",
       "      <td>22.297500</td>\n",
       "      <td>NaN</td>\n",
       "      <td>NaN</td>\n",
       "      <td>31.000000</td>\n",
       "      <td>28.000000</td>\n",
       "    </tr>\n",
       "    <tr>\n",
       "      <th>max</th>\n",
       "      <td>1.478444e+06</td>\n",
       "      <td>405334.000000</td>\n",
       "      <td>NaN</td>\n",
       "      <td>NaN</td>\n",
       "      <td>35.410000</td>\n",
       "      <td>NaN</td>\n",
       "      <td>NaN</td>\n",
       "      <td>35.000000</td>\n",
       "      <td>33.000000</td>\n",
       "    </tr>\n",
       "  </tbody>\n",
       "</table>\n",
       "</div>"
      ],
      "text/plain": [
       "            order_id    customer_id restaurant_name cuisine_type  \\\n",
       "count   1.898000e+03    1898.000000            1898         1898   \n",
       "unique           NaN            NaN             178           14   \n",
       "top              NaN            NaN     Shake Shack     American   \n",
       "freq             NaN            NaN             219          584   \n",
       "mean    1.477496e+06  171168.478398             NaN          NaN   \n",
       "std     5.480497e+02  113698.139743             NaN          NaN   \n",
       "min     1.476547e+06    1311.000000             NaN          NaN   \n",
       "25%     1.477021e+06   77787.750000             NaN          NaN   \n",
       "50%     1.477496e+06  128600.000000             NaN          NaN   \n",
       "75%     1.477970e+06  270525.000000             NaN          NaN   \n",
       "max     1.478444e+06  405334.000000             NaN          NaN   \n",
       "\n",
       "        cost_of_the_order day_of_the_week     rating  food_preparation_time  \\\n",
       "count         1898.000000            1898       1898            1898.000000   \n",
       "unique                NaN               2          4                    NaN   \n",
       "top                   NaN         Weekend  Not given                    NaN   \n",
       "freq                  NaN            1351        736                    NaN   \n",
       "mean            16.498851             NaN        NaN              27.371970   \n",
       "std              7.483812             NaN        NaN               4.632481   \n",
       "min              4.470000             NaN        NaN              20.000000   \n",
       "25%             12.080000             NaN        NaN              23.000000   \n",
       "50%             14.140000             NaN        NaN              27.000000   \n",
       "75%             22.297500             NaN        NaN              31.000000   \n",
       "max             35.410000             NaN        NaN              35.000000   \n",
       "\n",
       "        delivery_time  \n",
       "count     1898.000000  \n",
       "unique            NaN  \n",
       "top               NaN  \n",
       "freq              NaN  \n",
       "mean        24.161749  \n",
       "std          4.972637  \n",
       "min         15.000000  \n",
       "25%         20.000000  \n",
       "50%         25.000000  \n",
       "75%         28.000000  \n",
       "max         33.000000  "
      ]
     },
     "execution_count": 9,
     "metadata": {},
     "output_type": "execute_result"
    }
   ],
   "source": [
    "orders_foodhub.describe(include = 'all')"
   ]
  },
  {
   "cell_type": "code",
   "execution_count": 372,
   "metadata": {},
   "outputs": [
    {
     "data": {
      "text/plain": [
       "min     20.00000\n",
       "mean    27.37197\n",
       "max     35.00000\n",
       "Name: food_preparation_time, dtype: float64"
      ]
     },
     "execution_count": 372,
     "metadata": {},
     "output_type": "execute_result"
    }
   ],
   "source": [
    "orders_foodhub.describe()['food_preparation_time'][['min', 'mean', 'max']]"
   ]
  },
  {
   "cell_type": "markdown",
   "metadata": {},
   "source": [
    "##### OBSERVATIONS:\n",
    "- The minimum food preparation time is 20 minutes.\n",
    "- The average food preparation time is 27.37 minutes.\n",
    "- The maximum food preparation time is 35 minutes."
   ]
  },
  {
   "cell_type": "markdown",
   "metadata": {
    "id": "cw3l58z_JY_T"
   },
   "source": [
    "### **Question 5:** How many orders are not rated? "
   ]
  },
  {
   "cell_type": "code",
   "execution_count": 11,
   "metadata": {},
   "outputs": [
    {
     "data": {
      "text/plain": [
       "array(['Not given', '5', '3', '4'], dtype=object)"
      ]
     },
     "execution_count": 11,
     "metadata": {},
     "output_type": "execute_result"
    }
   ],
   "source": [
    "orders_foodhub['rating'].unique()"
   ]
  },
  {
   "cell_type": "code",
   "execution_count": 12,
   "metadata": {},
   "outputs": [
    {
     "data": {
      "text/plain": [
       "Not given    736\n",
       "Name: rating, dtype: int64"
      ]
     },
     "execution_count": 12,
     "metadata": {},
     "output_type": "execute_result"
    }
   ],
   "source": [
    "is_unrated = orders_foodhub['rating']=='Not given'\n",
    "unrated = orders_foodhub[is_unrated]\n",
    "unrated['rating'].value_counts()"
   ]
  },
  {
   "cell_type": "markdown",
   "metadata": {},
   "source": [
    "##### OBSERVATIONS:\n",
    "- There are 736 orders that are not rated."
   ]
  },
  {
   "cell_type": "markdown",
   "metadata": {
    "id": "7msIfXE-JY_T"
   },
   "source": [
    "### Exploratory Data Analysis (EDA)"
   ]
  },
  {
   "cell_type": "markdown",
   "metadata": {
    "id": "-2xfI28YJY_T"
   },
   "source": [
    "### Univariate Analysis"
   ]
  },
  {
   "cell_type": "markdown",
   "metadata": {
    "id": "0RHZnugBJY_U"
   },
   "source": [
    "### **Question 6:** Explore all the variables and provide observations on their distributions. (Generally, histograms, boxplots, countplots, etc. are used for univariate exploration.) "
   ]
  },
  {
   "cell_type": "markdown",
   "metadata": {
    "id": "TXEjEAXqbZmQ"
   },
   "source": [
    "#### Order ID"
   ]
  },
  {
   "cell_type": "code",
   "execution_count": 374,
   "metadata": {},
   "outputs": [
    {
     "data": {
      "image/png": "[encoded data removed]",
      "text/plain": [
       "<Figure size 576x360 with 1 Axes>"
      ]
     },
     "metadata": {
      "needs_background": "light"
     },
     "output_type": "display_data"
    }
   ],
   "source": [
    "orders_foodhub['order_id'].plot(kind = 'box', figsize = (8, 5), title = 'ORDER ID DISTRIBUTION', ylabel = 'ORDER ID');"
   ]
  },
  {
   "cell_type": "markdown",
   "metadata": {},
   "source": [
    "##### OBSERVATIONS:\n",
    "- The Boxplot shows the distribution of the order_ids upper-boundary value, lower-boundary and median.\n",
    "- Most of the order ids are between 147650 and 147850 and there are no outliers."
   ]
  },
  {
   "cell_type": "markdown",
   "metadata": {
    "id": "ts6l2h0abZmQ"
   },
   "source": [
    "#### Customer ID"
   ]
  },
  {
   "cell_type": "code",
   "execution_count": 16,
   "metadata": {},
   "outputs": [
    {
     "data": {
      "text/plain": [
       "1200"
      ]
     },
     "execution_count": 16,
     "metadata": {},
     "output_type": "execute_result"
    }
   ],
   "source": [
    "#Number of Customers\n",
    "orders_foodhub['customer_id'].nunique()"
   ]
  },
  {
   "cell_type": "code",
   "execution_count": 17,
   "metadata": {},
   "outputs": [
    {
     "data": {
      "text/plain": [
       "52832     13\n",
       "47440     10\n",
       "83287      9\n",
       "250494     8\n",
       "259341     7\n",
       "82041      7\n",
       "65009      7\n",
       "276192     7\n",
       "97079      6\n",
       "97991      6\n",
       "Name: customer_id, dtype: int64"
      ]
     },
     "execution_count": 17,
     "metadata": {},
     "output_type": "execute_result"
    }
   ],
   "source": [
    "#TOP 10 CUSTOMERS WITH MOST ORDERS\n",
    "orders_foodhub['customer_id'].value_counts().head(10)"
   ]
  },
  {
   "cell_type": "code",
   "execution_count": 18,
   "metadata": {},
   "outputs": [
    {
     "data": {
      "image/png": "[encoded data removed]",
      "text/plain": [
       "<Figure size 1080x360 with 1 Axes>"
      ]
     },
     "metadata": {
      "needs_background": "light"
     },
     "output_type": "display_data"
    }
   ],
   "source": [
    "#TOP 10 CUSTOMERS WITH MOST ORDERS CHART\n",
    "orders_foodhub['customer_id'].value_counts().head(10).plot(kind = 'bar', figsize = (15, 5), color = 'blue', \n",
    "    title = 'TOP 10 CUSTOMERS WITH MOST ORDERS', xlabel = 'CUSTOMER_ID', ylabel = 'TOTAL ORDERS');"
   ]
  },
  {
   "cell_type": "code",
   "execution_count": 19,
   "metadata": {},
   "outputs": [
    {
     "data": {
      "text/plain": [
       "1     784\n",
       "2     267\n",
       "3      83\n",
       "4      33\n",
       "5      19\n",
       "6       6\n",
       "7       4\n",
       "8       1\n",
       "9       1\n",
       "10      1\n",
       "13      1\n",
       "Name: customer_id, dtype: int64"
      ]
     },
     "execution_count": 19,
     "metadata": {},
     "output_type": "execute_result"
    }
   ],
   "source": [
    "#CUSTOMER ORDER DISTRIBUTION\n",
    "orders_foodhub['customer_id'].value_counts().value_counts().sort_index(ascending = True)"
   ]
  },
  {
   "cell_type": "code",
   "execution_count": 20,
   "metadata": {},
   "outputs": [
    {
     "data": {
      "image/png": "[encoded data removed]",
      "text/plain": [
       "<Figure size 1080x360 with 1 Axes>"
      ]
     },
     "metadata": {
      "needs_background": "light"
     },
     "output_type": "display_data"
    }
   ],
   "source": [
    "#CUSTOMER ORDER DISTRIBUTION CHART\n",
    "orders_foodhub['customer_id'].value_counts().value_counts().sort_index(ascending = True).plot(kind = 'bar', \n",
    "    figsize = (15, 5), color = 'blue', title = 'CUSTOMER ORDER DISTRIBUTION'\n",
    "    ,xlabel = 'ORDER TIMES', ylabel = 'NUMBER OF CUSTOMERS');"
   ]
  },
  {
   "cell_type": "code",
   "execution_count": 21,
   "metadata": {},
   "outputs": [
    {
     "data": {
      "text/plain": [
       "1.58"
      ]
     },
     "execution_count": 21,
     "metadata": {},
     "output_type": "execute_result"
    }
   ],
   "source": [
    "#AVERAGE CUSTOMER ORDER\n",
    "round(orders_foodhub['customer_id'].value_counts().mean(), 2)"
   ]
  },
  {
   "cell_type": "markdown",
   "metadata": {},
   "source": [
    "##### OBSERVATIONS:\n",
    "- A total of 1200 customers have placed orders in all the restaurants.\n",
    "- Customer ID 52832 holds the record for the highest number of orders, with a total of 13 orders.\n",
    "- 784 of the customers placed orders only once, while the average number of orders per customer is 1.58."
   ]
  },
  {
   "cell_type": "markdown",
   "metadata": {
    "id": "mgv5gIIEbZmR"
   },
   "source": [
    "#### Restaurant name"
   ]
  },
  {
   "cell_type": "code",
   "execution_count": 46,
   "metadata": {},
   "outputs": [
    {
     "data": {
      "text/plain": [
       "Shake Shack                  219\n",
       "The Meatball Shop            132\n",
       "Blue Ribbon Sushi            119\n",
       "Blue Ribbon Fried Chicken     96\n",
       "Parm                          68\n",
       "                            ... \n",
       "Sushi Choshi                   1\n",
       "Dos Caminos Soho               1\n",
       "La Follia                      1\n",
       "Philippe Chow                  1\n",
       "'wichcraft                     1\n",
       "Name: restaurant_name, Length: 178, dtype: int64"
      ]
     },
     "execution_count": 46,
     "metadata": {},
     "output_type": "execute_result"
    }
   ],
   "source": [
    "#Top 10 Restaurants with Most orders\n",
    "orders_foodhub['restaurant_name'].value_counts()"
   ]
  },
  {
   "cell_type": "code",
   "execution_count": 59,
   "metadata": {},
   "outputs": [
    {
     "data": {
      "image/png": "[encoded data removed]",
      "text/plain": [
       "<Figure size 1080x360 with 1 Axes>"
      ]
     },
     "metadata": {
      "needs_background": "light"
     },
     "output_type": "display_data"
    }
   ],
   "source": [
    "#RESTAURANT ORDER DISTRIBUTION CHART\n",
    "orders_foodhub['restaurant_name'].value_counts().head(10).plot(kind = 'bar', figsize = (15, 5), color = 'blue', \n",
    "    title = 'TOP 10 MOST PATRONIZED RESTAURANTS', xlabel = 'RESTAURANT', ylabel = 'TOTAL ORDERS');"
   ]
  },
  {
   "cell_type": "markdown",
   "metadata": {},
   "source": [
    "##### OBSERVATION:\n",
    "- Shake Shack is the restaurant with the most orders with 219 orders.\n",
    "- Sushi Choshi, Dos Caminos Soho, La Follia and Philippe Chow are some of the least patronized restaurants."
   ]
  },
  {
   "cell_type": "markdown",
   "metadata": {
    "id": "X7jR8GHN2rdK"
   },
   "source": [
    "#### Cuisine type"
   ]
  },
  {
   "cell_type": "code",
   "execution_count": 48,
   "metadata": {},
   "outputs": [
    {
     "data": {
      "text/plain": [
       "American          584\n",
       "Japanese          470\n",
       "Italian           298\n",
       "Chinese           215\n",
       "Mexican            77\n",
       "Indian             73\n",
       "Middle Eastern     49\n",
       "Mediterranean      46\n",
       "Thai               19\n",
       "French             18\n",
       "Southern           17\n",
       "Korean             13\n",
       "Spanish            12\n",
       "Vietnamese          7\n",
       "Name: cuisine_type, dtype: int64"
      ]
     },
     "execution_count": 48,
     "metadata": {},
     "output_type": "execute_result"
    }
   ],
   "source": [
    "#Ordered Cuisine\n",
    "orders_foodhub['cuisine_type'].value_counts()"
   ]
  },
  {
   "cell_type": "code",
   "execution_count": 50,
   "metadata": {},
   "outputs": [
    {
     "data": {
      "image/png": "[encoded data removed]",
      "text/plain": [
       "<Figure size 1080x360 with 1 Axes>"
      ]
     },
     "metadata": {
      "needs_background": "light"
     },
     "output_type": "display_data"
    }
   ],
   "source": [
    "#Cuisine Order Chart\n",
    "orders_foodhub['cuisine_type'].value_counts().plot(kind = 'bar', figsize = (15, 5), color = 'blue', \n",
    "    title = 'ORDERED CUISINE CHART', xlabel = 'CUISINE', ylabel = 'TOTAL ORDERS');"
   ]
  },
  {
   "cell_type": "markdown",
   "metadata": {},
   "source": [
    "##### OBSERVATION:\n",
    "- The American cuisine is the most order cuisine, having 584 orders while the Vietnamese cuisine is the least ordered, having only 7 orders."
   ]
  },
  {
   "cell_type": "markdown",
   "metadata": {
    "id": "fmWW_qb42rdL"
   },
   "source": [
    "#### Cost of the order"
   ]
  },
  {
   "cell_type": "code",
   "execution_count": 55,
   "metadata": {},
   "outputs": [
    {
     "data": {
      "text/plain": [
       "count    1898.000000\n",
       "mean       16.498851\n",
       "std         7.483812\n",
       "min         4.470000\n",
       "25%        12.080000\n",
       "50%        14.140000\n",
       "75%        22.297500\n",
       "max        35.410000\n",
       "Name: cost_of_the_order, dtype: float64"
      ]
     },
     "execution_count": 55,
     "metadata": {},
     "output_type": "execute_result"
    }
   ],
   "source": [
    "#Cost of order\n",
    "orders_foodhub['cost_of_the_order'].describe()"
   ]
  },
  {
   "cell_type": "code",
   "execution_count": 375,
   "metadata": {},
   "outputs": [
    {
     "data": {
      "image/png": "[encoded data removed]",
      "text/plain": [
       "<Figure size 1080x360 with 1 Axes>"
      ]
     },
     "metadata": {
      "needs_background": "light"
     },
     "output_type": "display_data"
    }
   ],
   "source": [
    "plt.figure(figsize=(15,5))\n",
    "plt.title('DISTRIBUTION OF ORDER COST')\n",
    "plt.xlabel('COST OF ORDER')\n",
    "plt.ylabel('NUMBER OF TIMES')\n",
    "plt.axvline(orders_foodhub['cost_of_the_order'].mean(), color='red')\n",
    "sns.histplot(orders_foodhub['cost_of_the_order'], kde= True)\n",
    "plt.show()"
   ]
  },
  {
   "cell_type": "markdown",
   "metadata": {},
   "source": [
    "##### OBSERVATION:\n",
    "- The least amount spent on an order is 4.47 USD.\n",
    "- The maximum amount spent on an order costs 35.41 USD.\n",
    "- The average cost of orders is 16.50 USD"
   ]
  },
  {
   "cell_type": "markdown",
   "metadata": {
    "id": "p34KqEqx2rdL"
   },
   "source": [
    "#### Day of the week"
   ]
  },
  {
   "cell_type": "code",
   "execution_count": 97,
   "metadata": {},
   "outputs": [
    {
     "data": {
      "text/plain": [
       "Weekend    1351\n",
       "Weekday     547\n",
       "Name: day_of_the_week, dtype: int64"
      ]
     },
     "execution_count": 97,
     "metadata": {},
     "output_type": "execute_result"
    }
   ],
   "source": [
    "orders_foodhub['day_of_the_week'].value_counts()"
   ]
  },
  {
   "cell_type": "code",
   "execution_count": 376,
   "metadata": {},
   "outputs": [
    {
     "data": {
      "image/png": "[encoded data removed]",
      "text/plain": [
       "<Figure size 1080x360 with 1 Axes>"
      ]
     },
     "metadata": {},
     "output_type": "display_data"
    }
   ],
   "source": [
    "orders_foodhub['day_of_the_week'].value_counts().plot(kind = 'pie', figsize = (15, 5),  \n",
    "    title = 'ORDER BY DAY OF THE WEEK', label = '', autopct = '%1.0f%%', explode = (0.05, 0.05), colors = ['blue','green']);"
   ]
  },
  {
   "cell_type": "markdown",
   "metadata": {},
   "source": [
    "##### OBSERVATION:\n",
    "- 71% of the orders were placed during the weekend while 547 orders were placed during the weekday."
   ]
  },
  {
   "cell_type": "markdown",
   "metadata": {
    "id": "1oOW_lzO2rdL"
   },
   "source": [
    "#### Rating"
   ]
  },
  {
   "cell_type": "code",
   "execution_count": 125,
   "metadata": {},
   "outputs": [
    {
     "data": {
      "text/plain": [
       "Not given    736\n",
       "5            588\n",
       "4            386\n",
       "3            188\n",
       "Name: rating, dtype: int64"
      ]
     },
     "execution_count": 125,
     "metadata": {},
     "output_type": "execute_result"
    }
   ],
   "source": [
    "orders_foodhub['rating'].value_counts()"
   ]
  },
  {
   "cell_type": "code",
   "execution_count": 133,
   "metadata": {},
   "outputs": [
    {
     "data": {
      "image/png": "[encoded data removed]",
      "text/plain": [
       "<Figure size 1080x360 with 1 Axes>"
      ]
     },
     "metadata": {},
     "output_type": "display_data"
    }
   ],
   "source": [
    "orders_foodhub['rating'].value_counts().plot(kind = 'pie', figsize = (15, 5),  \n",
    "    title = 'ORDER RATING', label = '', autopct = '%1.0f%%', explode = (0.05, 0.05, 0.05, 0.05));"
   ]
  },
  {
   "cell_type": "code",
   "execution_count": 400,
   "metadata": {},
   "outputs": [
    {
     "data": {
      "text/plain": [
       "4.3"
      ]
     },
     "execution_count": 400,
     "metadata": {},
     "output_type": "execute_result"
    }
   ],
   "source": [
    "#Calculate the average Rating of the Rated Orders\n",
    "rated_orders = orders_foodhub.drop(orders_foodhub[orders_foodhub['rating']=='Not given'].index)\n",
    "rated_ratings = rated_orders['rating'].astype(int)\n",
    "round(rated_ratings.mean(),1)"
   ]
  },
  {
   "cell_type": "markdown",
   "metadata": {},
   "source": [
    "##### OBSERVATION:\n",
    "- 736 orders were not rated. This is equivalent to 39% of the orders.\n",
    "- Of the rated orders, 588 of the orders were rated 5.\n",
    "- The average rating of the rated orders is 4.3."
   ]
  },
  {
   "cell_type": "markdown",
   "metadata": {
    "id": "OP1gYWnR2rdM"
   },
   "source": [
    "#### Food Preparation time"
   ]
  },
  {
   "cell_type": "code",
   "execution_count": 179,
   "metadata": {},
   "outputs": [
    {
     "data": {
      "text/plain": [
       "count    1898.000000\n",
       "mean       27.371970\n",
       "std         4.632481\n",
       "min        20.000000\n",
       "25%        23.000000\n",
       "50%        27.000000\n",
       "75%        31.000000\n",
       "max        35.000000\n",
       "Name: food_preparation_time, dtype: float64"
      ]
     },
     "execution_count": 179,
     "metadata": {},
     "output_type": "execute_result"
    }
   ],
   "source": [
    "orders_foodhub['food_preparation_time'].describe()"
   ]
  },
  {
   "cell_type": "code",
   "execution_count": 180,
   "metadata": {},
   "outputs": [
    {
     "data": {
      "image/png": "[encoded data removed]",
      "text/plain": [
       "<Figure size 1080x360 with 1 Axes>"
      ]
     },
     "metadata": {
      "needs_background": "light"
     },
     "output_type": "display_data"
    }
   ],
   "source": [
    "plt.figure(figsize=(15,5))\n",
    "plt.title('FOOD PREPARATION TIME DISTRIBUTION')\n",
    "plt.xlabel('FOOD PREPARATION TIME')\n",
    "plt.ylabel('NUMBER OF TIMES')\n",
    "plt.axvline(orders_foodhub['food_preparation_time'].mean(), color='red')\n",
    "sns.histplot(orders_foodhub['food_preparation_time'], kde= True);"
   ]
  },
  {
   "cell_type": "markdown",
   "metadata": {},
   "source": [
    "##### OBSERVATION:\n",
    "- The least time take to prepare a food was 20 Minute while the longest it took to prepare a food was 35 Minutes.\n",
    "- The average time taken to prepare all the foods ordered is 27.37 Minutes"
   ]
  },
  {
   "cell_type": "markdown",
   "metadata": {
    "id": "ENW0PF5b2rdM"
   },
   "source": [
    "#### Delivery time"
   ]
  },
  {
   "cell_type": "code",
   "execution_count": 186,
   "metadata": {},
   "outputs": [
    {
     "data": {
      "text/plain": [
       "count    1898.000000\n",
       "mean       24.161749\n",
       "std         4.972637\n",
       "min        15.000000\n",
       "25%        20.000000\n",
       "50%        25.000000\n",
       "75%        28.000000\n",
       "max        33.000000\n",
       "Name: delivery_time, dtype: float64"
      ]
     },
     "execution_count": 186,
     "metadata": {},
     "output_type": "execute_result"
    }
   ],
   "source": [
    "orders_foodhub['delivery_time'].describe()"
   ]
  },
  {
   "cell_type": "code",
   "execution_count": 187,
   "metadata": {},
   "outputs": [
    {
     "data": {
      "image/png": "[encoded data removed]",
      "text/plain": [
       "<Figure size 1080x360 with 1 Axes>"
      ]
     },
     "metadata": {
      "needs_background": "light"
     },
     "output_type": "display_data"
    }
   ],
   "source": [
    "plt.figure(figsize=(15,5))\n",
    "plt.title('ORDER DELIVERY TIME DISTRIBUTION')\n",
    "plt.xlabel('ORDER DELIVERY TIME')\n",
    "plt.ylabel('NUMBER OF TIMES')\n",
    "plt.axvline(orders_foodhub['delivery_time'].mean(), color='red')\n",
    "sns.histplot(orders_foodhub['delivery_time'], kde= True);"
   ]
  },
  {
   "cell_type": "markdown",
   "metadata": {},
   "source": [
    "##### OBSERVATION:\n",
    "- The fastest delivery time took 15 Minutes while the longest delivery time took 33 Minutes.\n",
    "- On average, orders are delivered within 24.16 Minutes."
   ]
  },
  {
   "cell_type": "markdown",
   "metadata": {
    "id": "K9CqA5H_JY_U"
   },
   "source": [
    "### **Question 7**: Which are the top 5 restaurants in terms of the number of orders received? "
   ]
  },
  {
   "cell_type": "code",
   "execution_count": 192,
   "metadata": {},
   "outputs": [
    {
     "data": {
      "text/plain": [
       "Shake Shack                  219\n",
       "The Meatball Shop            132\n",
       "Blue Ribbon Sushi            119\n",
       "Blue Ribbon Fried Chicken     96\n",
       "Parm                          68\n",
       "Name: restaurant_name, dtype: int64"
      ]
     },
     "execution_count": 192,
     "metadata": {},
     "output_type": "execute_result"
    }
   ],
   "source": [
    "orders_foodhub['restaurant_name'].value_counts().head(5)"
   ]
  },
  {
   "cell_type": "markdown",
   "metadata": {
    "id": "gWPMqGq0JY_U"
   },
   "source": [
    "### **Question 8**: Which is the most popular cuisine on weekends?"
   ]
  },
  {
   "cell_type": "code",
   "execution_count": 299,
   "metadata": {},
   "outputs": [
    {
     "data": {
      "text/plain": [
       "American    415\n",
       "Name: cuisine_type, dtype: int64"
      ]
     },
     "execution_count": 299,
     "metadata": {},
     "output_type": "execute_result"
    }
   ],
   "source": [
    "weekend_orders = orders_foodhub[orders_foodhub['day_of_the_week'] == 'Weekend']\n",
    "weekend_orders['cuisine_type'].value_counts().head(1)"
   ]
  },
  {
   "cell_type": "markdown",
   "metadata": {},
   "source": [
    "American cuisine is the most popular cuisine on weekends, with 415 orders."
   ]
  },
  {
   "cell_type": "markdown",
   "metadata": {
    "id": "88xgTqkxJY_U"
   },
   "source": [
    "### **Question 9**: What percentage of the orders cost more than 20 dollars?"
   ]
  },
  {
   "cell_type": "code",
   "execution_count": 199,
   "metadata": {},
   "outputs": [
    {
     "data": {
      "text/plain": [
       "29.24"
      ]
     },
     "execution_count": 199,
     "metadata": {},
     "output_type": "execute_result"
    }
   ],
   "source": [
    "round(len(orders_foodhub[orders_foodhub['cost_of_the_order']>20])/len(orders_foodhub)*100,2)"
   ]
  },
  {
   "cell_type": "markdown",
   "metadata": {},
   "source": [
    "- 29.24% of the orders cost more than $20."
   ]
  },
  {
   "cell_type": "markdown",
   "metadata": {
    "id": "HFyHn7hsJY_V"
   },
   "source": [
    "### **Question 10**: What is the mean order delivery time?"
   ]
  },
  {
   "cell_type": "code",
   "execution_count": 200,
   "metadata": {},
   "outputs": [
    {
     "data": {
      "text/plain": [
       "24.16"
      ]
     },
     "execution_count": 200,
     "metadata": {},
     "output_type": "execute_result"
    }
   ],
   "source": [
    "round(orders_foodhub['delivery_time'].mean(), 2)"
   ]
  },
  {
   "cell_type": "markdown",
   "metadata": {},
   "source": [
    "- The average order delivery time is 24.16 Minutes"
   ]
  },
  {
   "cell_type": "markdown",
   "metadata": {
    "id": "48IjaOuDJY_V"
   },
   "source": [
    "### **Question 11:** The company has decided to give 20% discount vouchers to the top 3 most frequent customers. Find the IDs of these customers and the number of orders they placed."
   ]
  },
  {
   "cell_type": "code",
   "execution_count": 202,
   "metadata": {},
   "outputs": [
    {
     "data": {
      "text/plain": [
       "52832    13\n",
       "47440    10\n",
       "83287     9\n",
       "Name: customer_id, dtype: int64"
      ]
     },
     "execution_count": 202,
     "metadata": {},
     "output_type": "execute_result"
    }
   ],
   "source": [
    "orders_foodhub['customer_id'].value_counts().head(3)"
   ]
  },
  {
   "cell_type": "markdown",
   "metadata": {},
   "source": [
    "##### OBSERVATION:\n",
    "*The IDs of the top 3 customers with most orders are:*\n",
    "- 52832 made 13 orders,\n",
    "- 47440 made 10 orders,\n",
    "- 83287 made 9 orders."
   ]
  },
  {
   "cell_type": "markdown",
   "metadata": {
    "id": "AfIc2jPaJY_V"
   },
   "source": [
    "### Multivariate Analysis"
   ]
  },
  {
   "cell_type": "markdown",
   "metadata": {
    "id": "iqiS0RT_JY_V"
   },
   "source": [
    "### **Question 12**: Perform a multivariate analysis to explore relationships between the important variables in the dataset. (It is a good idea to explore relations between numerical variables as well as relations between numerical and categorical variables)"
   ]
  },
  {
   "cell_type": "markdown",
   "metadata": {
    "id": "sTYfSbdR2rdO"
   },
   "source": [
    "#### Cuisine vs Cost of the order"
   ]
  },
  {
   "cell_type": "code",
   "execution_count": 234,
   "metadata": {},
   "outputs": [
    {
     "data": {
      "text/html": [
       "<div>\n",
       "<style scoped>\n",
       "    .dataframe tbody tr th:only-of-type {\n",
       "        vertical-align: middle;\n",
       "    }\n",
       "\n",
       "    .dataframe tbody tr th {\n",
       "        vertical-align: top;\n",
       "    }\n",
       "\n",
       "    .dataframe thead th {\n",
       "        text-align: right;\n",
       "    }\n",
       "</style>\n",
       "<table border=\"1\" class=\"dataframe\">\n",
       "  <thead>\n",
       "    <tr style=\"text-align: right;\">\n",
       "      <th></th>\n",
       "      <th>count</th>\n",
       "      <th>mean</th>\n",
       "      <th>std</th>\n",
       "      <th>min</th>\n",
       "      <th>25%</th>\n",
       "      <th>50%</th>\n",
       "      <th>75%</th>\n",
       "      <th>max</th>\n",
       "    </tr>\n",
       "    <tr>\n",
       "      <th>cuisine_type</th>\n",
       "      <th></th>\n",
       "      <th></th>\n",
       "      <th></th>\n",
       "      <th></th>\n",
       "      <th></th>\n",
       "      <th></th>\n",
       "      <th></th>\n",
       "      <th></th>\n",
       "    </tr>\n",
       "  </thead>\n",
       "  <tbody>\n",
       "    <tr>\n",
       "      <th>American</th>\n",
       "      <td>584.0</td>\n",
       "      <td>16.319829</td>\n",
       "      <td>7.462290</td>\n",
       "      <td>4.71</td>\n",
       "      <td>12.0800</td>\n",
       "      <td>14.120</td>\n",
       "      <td>22.2600</td>\n",
       "      <td>33.18</td>\n",
       "    </tr>\n",
       "    <tr>\n",
       "      <th>Chinese</th>\n",
       "      <td>215.0</td>\n",
       "      <td>16.305209</td>\n",
       "      <td>7.631503</td>\n",
       "      <td>4.75</td>\n",
       "      <td>12.1050</td>\n",
       "      <td>14.120</td>\n",
       "      <td>21.8800</td>\n",
       "      <td>34.19</td>\n",
       "    </tr>\n",
       "    <tr>\n",
       "      <th>French</th>\n",
       "      <td>18.0</td>\n",
       "      <td>19.793889</td>\n",
       "      <td>6.508990</td>\n",
       "      <td>11.98</td>\n",
       "      <td>13.0525</td>\n",
       "      <td>20.470</td>\n",
       "      <td>23.6550</td>\n",
       "      <td>29.25</td>\n",
       "    </tr>\n",
       "    <tr>\n",
       "      <th>Indian</th>\n",
       "      <td>73.0</td>\n",
       "      <td>16.919726</td>\n",
       "      <td>7.897493</td>\n",
       "      <td>5.34</td>\n",
       "      <td>11.6400</td>\n",
       "      <td>16.150</td>\n",
       "      <td>24.2000</td>\n",
       "      <td>33.03</td>\n",
       "    </tr>\n",
       "    <tr>\n",
       "      <th>Italian</th>\n",
       "      <td>298.0</td>\n",
       "      <td>16.418691</td>\n",
       "      <td>7.268831</td>\n",
       "      <td>5.05</td>\n",
       "      <td>12.0800</td>\n",
       "      <td>14.480</td>\n",
       "      <td>22.2600</td>\n",
       "      <td>33.03</td>\n",
       "    </tr>\n",
       "    <tr>\n",
       "      <th>Japanese</th>\n",
       "      <td>470.0</td>\n",
       "      <td>16.304532</td>\n",
       "      <td>7.422722</td>\n",
       "      <td>4.47</td>\n",
       "      <td>12.0800</td>\n",
       "      <td>14.070</td>\n",
       "      <td>21.8300</td>\n",
       "      <td>33.37</td>\n",
       "    </tr>\n",
       "    <tr>\n",
       "      <th>Korean</th>\n",
       "      <td>13.0</td>\n",
       "      <td>14.001538</td>\n",
       "      <td>7.563540</td>\n",
       "      <td>5.77</td>\n",
       "      <td>11.8400</td>\n",
       "      <td>12.180</td>\n",
       "      <td>14.0200</td>\n",
       "      <td>30.75</td>\n",
       "    </tr>\n",
       "    <tr>\n",
       "      <th>Mediterranean</th>\n",
       "      <td>46.0</td>\n",
       "      <td>15.474783</td>\n",
       "      <td>7.604720</td>\n",
       "      <td>5.67</td>\n",
       "      <td>12.0925</td>\n",
       "      <td>13.995</td>\n",
       "      <td>18.7825</td>\n",
       "      <td>35.41</td>\n",
       "    </tr>\n",
       "    <tr>\n",
       "      <th>Mexican</th>\n",
       "      <td>77.0</td>\n",
       "      <td>16.933117</td>\n",
       "      <td>7.555108</td>\n",
       "      <td>4.85</td>\n",
       "      <td>12.0800</td>\n",
       "      <td>15.570</td>\n",
       "      <td>22.3600</td>\n",
       "      <td>33.32</td>\n",
       "    </tr>\n",
       "    <tr>\n",
       "      <th>Middle Eastern</th>\n",
       "      <td>49.0</td>\n",
       "      <td>18.820612</td>\n",
       "      <td>8.086499</td>\n",
       "      <td>5.77</td>\n",
       "      <td>12.9500</td>\n",
       "      <td>16.300</td>\n",
       "      <td>25.2700</td>\n",
       "      <td>32.93</td>\n",
       "    </tr>\n",
       "    <tr>\n",
       "      <th>Southern</th>\n",
       "      <td>17.0</td>\n",
       "      <td>19.300588</td>\n",
       "      <td>7.966032</td>\n",
       "      <td>7.38</td>\n",
       "      <td>12.4700</td>\n",
       "      <td>16.110</td>\n",
       "      <td>29.1500</td>\n",
       "      <td>31.43</td>\n",
       "    </tr>\n",
       "    <tr>\n",
       "      <th>Spanish</th>\n",
       "      <td>12.0</td>\n",
       "      <td>18.994167</td>\n",
       "      <td>6.658207</td>\n",
       "      <td>12.13</td>\n",
       "      <td>12.9150</td>\n",
       "      <td>16.520</td>\n",
       "      <td>24.4925</td>\n",
       "      <td>29.10</td>\n",
       "    </tr>\n",
       "    <tr>\n",
       "      <th>Thai</th>\n",
       "      <td>19.0</td>\n",
       "      <td>19.207895</td>\n",
       "      <td>7.579149</td>\n",
       "      <td>6.69</td>\n",
       "      <td>12.7100</td>\n",
       "      <td>19.350</td>\n",
       "      <td>24.2000</td>\n",
       "      <td>32.93</td>\n",
       "    </tr>\n",
       "    <tr>\n",
       "      <th>Vietnamese</th>\n",
       "      <td>7.0</td>\n",
       "      <td>12.882857</td>\n",
       "      <td>5.319623</td>\n",
       "      <td>6.01</td>\n",
       "      <td>10.0200</td>\n",
       "      <td>12.130</td>\n",
       "      <td>14.8700</td>\n",
       "      <td>22.26</td>\n",
       "    </tr>\n",
       "  </tbody>\n",
       "</table>\n",
       "</div>"
      ],
      "text/plain": [
       "                count       mean       std    min      25%     50%      75%  \\\n",
       "cuisine_type                                                                  \n",
       "American        584.0  16.319829  7.462290   4.71  12.0800  14.120  22.2600   \n",
       "Chinese         215.0  16.305209  7.631503   4.75  12.1050  14.120  21.8800   \n",
       "French           18.0  19.793889  6.508990  11.98  13.0525  20.470  23.6550   \n",
       "Indian           73.0  16.919726  7.897493   5.34  11.6400  16.150  24.2000   \n",
       "Italian         298.0  16.418691  7.268831   5.05  12.0800  14.480  22.2600   \n",
       "Japanese        470.0  16.304532  7.422722   4.47  12.0800  14.070  21.8300   \n",
       "Korean           13.0  14.001538  7.563540   5.77  11.8400  12.180  14.0200   \n",
       "Mediterranean    46.0  15.474783  7.604720   5.67  12.0925  13.995  18.7825   \n",
       "Mexican          77.0  16.933117  7.555108   4.85  12.0800  15.570  22.3600   \n",
       "Middle Eastern   49.0  18.820612  8.086499   5.77  12.9500  16.300  25.2700   \n",
       "Southern         17.0  19.300588  7.966032   7.38  12.4700  16.110  29.1500   \n",
       "Spanish          12.0  18.994167  6.658207  12.13  12.9150  16.520  24.4925   \n",
       "Thai             19.0  19.207895  7.579149   6.69  12.7100  19.350  24.2000   \n",
       "Vietnamese        7.0  12.882857  5.319623   6.01  10.0200  12.130  14.8700   \n",
       "\n",
       "                  max  \n",
       "cuisine_type           \n",
       "American        33.18  \n",
       "Chinese         34.19  \n",
       "French          29.25  \n",
       "Indian          33.03  \n",
       "Italian         33.03  \n",
       "Japanese        33.37  \n",
       "Korean          30.75  \n",
       "Mediterranean   35.41  \n",
       "Mexican         33.32  \n",
       "Middle Eastern  32.93  \n",
       "Southern        31.43  \n",
       "Spanish         29.10  \n",
       "Thai            32.93  \n",
       "Vietnamese      22.26  "
      ]
     },
     "execution_count": 234,
     "metadata": {},
     "output_type": "execute_result"
    }
   ],
   "source": [
    "orders_foodhub.groupby('cuisine_type')['cost_of_the_order'].describe()"
   ]
  },
  {
   "cell_type": "code",
   "execution_count": 382,
   "metadata": {},
   "outputs": [
    {
     "data": {
      "image/png": "[encoded data removed]",
      "text/plain": [
       "<Figure size 1440x360 with 1 Axes>"
      ]
     },
     "metadata": {
      "needs_background": "light"
     },
     "output_type": "display_data"
    }
   ],
   "source": [
    "orders_foodhub.groupby('cuisine_type')['cost_of_the_order'].describe()[['mean', 'min', 'max']].plot(kind = 'bar'\n",
    ",figsize = (20, 5), title = 'AVERAGE COST OF ORDER VS CUISINE TYPE',\n",
    "xlabel = 'CUISINE TYPE', ylabel = 'COST (USD)');"
   ]
  },
  {
   "cell_type": "markdown",
   "metadata": {},
   "source": [
    "##### OBSERVATION:\n",
    "- The French cuisine has the highest average order cost while the Vietnamese cuisine has the least average order cost."
   ]
  },
  {
   "cell_type": "markdown",
   "metadata": {
    "id": "cmf4oTiB2rdQ"
   },
   "source": [
    "#### Cuisine vs Food Preparation time"
   ]
  },
  {
   "cell_type": "code",
   "execution_count": 237,
   "metadata": {},
   "outputs": [
    {
     "data": {
      "text/html": [
       "<div>\n",
       "<style scoped>\n",
       "    .dataframe tbody tr th:only-of-type {\n",
       "        vertical-align: middle;\n",
       "    }\n",
       "\n",
       "    .dataframe tbody tr th {\n",
       "        vertical-align: top;\n",
       "    }\n",
       "\n",
       "    .dataframe thead th {\n",
       "        text-align: right;\n",
       "    }\n",
       "</style>\n",
       "<table border=\"1\" class=\"dataframe\">\n",
       "  <thead>\n",
       "    <tr style=\"text-align: right;\">\n",
       "      <th></th>\n",
       "      <th>count</th>\n",
       "      <th>mean</th>\n",
       "      <th>std</th>\n",
       "      <th>min</th>\n",
       "      <th>25%</th>\n",
       "      <th>50%</th>\n",
       "      <th>75%</th>\n",
       "      <th>max</th>\n",
       "    </tr>\n",
       "    <tr>\n",
       "      <th>cuisine_type</th>\n",
       "      <th></th>\n",
       "      <th></th>\n",
       "      <th></th>\n",
       "      <th></th>\n",
       "      <th></th>\n",
       "      <th></th>\n",
       "      <th></th>\n",
       "      <th></th>\n",
       "    </tr>\n",
       "  </thead>\n",
       "  <tbody>\n",
       "    <tr>\n",
       "      <th>American</th>\n",
       "      <td>584.0</td>\n",
       "      <td>27.440068</td>\n",
       "      <td>4.658474</td>\n",
       "      <td>20.0</td>\n",
       "      <td>23.00</td>\n",
       "      <td>27.0</td>\n",
       "      <td>31.0</td>\n",
       "      <td>35.0</td>\n",
       "    </tr>\n",
       "    <tr>\n",
       "      <th>Chinese</th>\n",
       "      <td>215.0</td>\n",
       "      <td>27.511628</td>\n",
       "      <td>4.758525</td>\n",
       "      <td>20.0</td>\n",
       "      <td>23.50</td>\n",
       "      <td>27.0</td>\n",
       "      <td>32.0</td>\n",
       "      <td>35.0</td>\n",
       "    </tr>\n",
       "    <tr>\n",
       "      <th>French</th>\n",
       "      <td>18.0</td>\n",
       "      <td>26.888889</td>\n",
       "      <td>5.039712</td>\n",
       "      <td>21.0</td>\n",
       "      <td>22.50</td>\n",
       "      <td>25.5</td>\n",
       "      <td>31.0</td>\n",
       "      <td>35.0</td>\n",
       "    </tr>\n",
       "    <tr>\n",
       "      <th>Indian</th>\n",
       "      <td>73.0</td>\n",
       "      <td>27.109589</td>\n",
       "      <td>4.620491</td>\n",
       "      <td>20.0</td>\n",
       "      <td>23.00</td>\n",
       "      <td>27.0</td>\n",
       "      <td>31.0</td>\n",
       "      <td>35.0</td>\n",
       "    </tr>\n",
       "    <tr>\n",
       "      <th>Italian</th>\n",
       "      <td>298.0</td>\n",
       "      <td>27.483221</td>\n",
       "      <td>4.519474</td>\n",
       "      <td>20.0</td>\n",
       "      <td>23.00</td>\n",
       "      <td>28.0</td>\n",
       "      <td>31.0</td>\n",
       "      <td>35.0</td>\n",
       "    </tr>\n",
       "    <tr>\n",
       "      <th>Japanese</th>\n",
       "      <td>470.0</td>\n",
       "      <td>27.510638</td>\n",
       "      <td>4.604496</td>\n",
       "      <td>20.0</td>\n",
       "      <td>24.00</td>\n",
       "      <td>27.5</td>\n",
       "      <td>32.0</td>\n",
       "      <td>35.0</td>\n",
       "    </tr>\n",
       "    <tr>\n",
       "      <th>Korean</th>\n",
       "      <td>13.0</td>\n",
       "      <td>25.461538</td>\n",
       "      <td>3.971049</td>\n",
       "      <td>20.0</td>\n",
       "      <td>23.00</td>\n",
       "      <td>25.0</td>\n",
       "      <td>26.0</td>\n",
       "      <td>33.0</td>\n",
       "    </tr>\n",
       "    <tr>\n",
       "      <th>Mediterranean</th>\n",
       "      <td>46.0</td>\n",
       "      <td>27.000000</td>\n",
       "      <td>4.908043</td>\n",
       "      <td>20.0</td>\n",
       "      <td>23.00</td>\n",
       "      <td>27.0</td>\n",
       "      <td>31.0</td>\n",
       "      <td>35.0</td>\n",
       "    </tr>\n",
       "    <tr>\n",
       "      <th>Mexican</th>\n",
       "      <td>77.0</td>\n",
       "      <td>26.727273</td>\n",
       "      <td>4.604450</td>\n",
       "      <td>20.0</td>\n",
       "      <td>23.00</td>\n",
       "      <td>26.0</td>\n",
       "      <td>31.0</td>\n",
       "      <td>35.0</td>\n",
       "    </tr>\n",
       "    <tr>\n",
       "      <th>Middle Eastern</th>\n",
       "      <td>49.0</td>\n",
       "      <td>26.673469</td>\n",
       "      <td>4.012417</td>\n",
       "      <td>20.0</td>\n",
       "      <td>24.00</td>\n",
       "      <td>27.0</td>\n",
       "      <td>30.0</td>\n",
       "      <td>34.0</td>\n",
       "    </tr>\n",
       "    <tr>\n",
       "      <th>Southern</th>\n",
       "      <td>17.0</td>\n",
       "      <td>27.588235</td>\n",
       "      <td>5.523346</td>\n",
       "      <td>20.0</td>\n",
       "      <td>24.00</td>\n",
       "      <td>26.0</td>\n",
       "      <td>33.0</td>\n",
       "      <td>35.0</td>\n",
       "    </tr>\n",
       "    <tr>\n",
       "      <th>Spanish</th>\n",
       "      <td>12.0</td>\n",
       "      <td>26.916667</td>\n",
       "      <td>4.501683</td>\n",
       "      <td>20.0</td>\n",
       "      <td>23.75</td>\n",
       "      <td>27.5</td>\n",
       "      <td>28.5</td>\n",
       "      <td>35.0</td>\n",
       "    </tr>\n",
       "    <tr>\n",
       "      <th>Thai</th>\n",
       "      <td>19.0</td>\n",
       "      <td>27.315789</td>\n",
       "      <td>5.498006</td>\n",
       "      <td>21.0</td>\n",
       "      <td>22.00</td>\n",
       "      <td>28.0</td>\n",
       "      <td>32.5</td>\n",
       "      <td>35.0</td>\n",
       "    </tr>\n",
       "    <tr>\n",
       "      <th>Vietnamese</th>\n",
       "      <td>7.0</td>\n",
       "      <td>25.714286</td>\n",
       "      <td>5.154748</td>\n",
       "      <td>20.0</td>\n",
       "      <td>21.50</td>\n",
       "      <td>25.0</td>\n",
       "      <td>29.5</td>\n",
       "      <td>33.0</td>\n",
       "    </tr>\n",
       "  </tbody>\n",
       "</table>\n",
       "</div>"
      ],
      "text/plain": [
       "                count       mean       std   min    25%   50%   75%   max\n",
       "cuisine_type                                                             \n",
       "American        584.0  27.440068  4.658474  20.0  23.00  27.0  31.0  35.0\n",
       "Chinese         215.0  27.511628  4.758525  20.0  23.50  27.0  32.0  35.0\n",
       "French           18.0  26.888889  5.039712  21.0  22.50  25.5  31.0  35.0\n",
       "Indian           73.0  27.109589  4.620491  20.0  23.00  27.0  31.0  35.0\n",
       "Italian         298.0  27.483221  4.519474  20.0  23.00  28.0  31.0  35.0\n",
       "Japanese        470.0  27.510638  4.604496  20.0  24.00  27.5  32.0  35.0\n",
       "Korean           13.0  25.461538  3.971049  20.0  23.00  25.0  26.0  33.0\n",
       "Mediterranean    46.0  27.000000  4.908043  20.0  23.00  27.0  31.0  35.0\n",
       "Mexican          77.0  26.727273  4.604450  20.0  23.00  26.0  31.0  35.0\n",
       "Middle Eastern   49.0  26.673469  4.012417  20.0  24.00  27.0  30.0  34.0\n",
       "Southern         17.0  27.588235  5.523346  20.0  24.00  26.0  33.0  35.0\n",
       "Spanish          12.0  26.916667  4.501683  20.0  23.75  27.5  28.5  35.0\n",
       "Thai             19.0  27.315789  5.498006  21.0  22.00  28.0  32.5  35.0\n",
       "Vietnamese        7.0  25.714286  5.154748  20.0  21.50  25.0  29.5  33.0"
      ]
     },
     "execution_count": 237,
     "metadata": {},
     "output_type": "execute_result"
    }
   ],
   "source": [
    "orders_foodhub.groupby('cuisine_type')['food_preparation_time'].describe()"
   ]
  },
  {
   "cell_type": "code",
   "execution_count": 383,
   "metadata": {},
   "outputs": [
    {
     "data": {
      "image/png": "[encoded data removed]",
      "text/plain": [
       "<Figure size 1440x360 with 1 Axes>"
      ]
     },
     "metadata": {
      "needs_background": "light"
     },
     "output_type": "display_data"
    }
   ],
   "source": [
    "orders_foodhub.groupby('cuisine_type')['food_preparation_time'].describe()[['mean', 'min', 'max']].plot(kind = 'bar'\n",
    ",figsize = (20, 5), title = 'AVERAGE PREPARATION TIME BY CUISINE TYPE',\n",
    "xlabel = 'CUISINE TYPE', ylabel = 'PREPARATION TIME (MINUTES)');"
   ]
  },
  {
   "cell_type": "markdown",
   "metadata": {},
   "source": [
    "##### OBSERVATION:\n",
    "- On average, the Korean cuisine takes the shortest time to prepare while the Southern cuisine has the longest preparation time.\n",
    "- Most cuisine have really close preparation time.\n",
    "- The fastest time to prepare most of the cuisines is 20 minutes while the longest time it takes to prepare the cuisines is 35 minutes."
   ]
  },
  {
   "cell_type": "markdown",
   "metadata": {
    "id": "28L5vjZw2rdQ"
   },
   "source": [
    "#### Day of the Week vs Delivery time"
   ]
  },
  {
   "cell_type": "code",
   "execution_count": 244,
   "metadata": {},
   "outputs": [
    {
     "data": {
      "text/html": [
       "<div>\n",
       "<style scoped>\n",
       "    .dataframe tbody tr th:only-of-type {\n",
       "        vertical-align: middle;\n",
       "    }\n",
       "\n",
       "    .dataframe tbody tr th {\n",
       "        vertical-align: top;\n",
       "    }\n",
       "\n",
       "    .dataframe thead th {\n",
       "        text-align: right;\n",
       "    }\n",
       "</style>\n",
       "<table border=\"1\" class=\"dataframe\">\n",
       "  <thead>\n",
       "    <tr style=\"text-align: right;\">\n",
       "      <th></th>\n",
       "      <th>count</th>\n",
       "      <th>mean</th>\n",
       "      <th>std</th>\n",
       "      <th>min</th>\n",
       "      <th>25%</th>\n",
       "      <th>50%</th>\n",
       "      <th>75%</th>\n",
       "      <th>max</th>\n",
       "    </tr>\n",
       "    <tr>\n",
       "      <th>day_of_the_week</th>\n",
       "      <th></th>\n",
       "      <th></th>\n",
       "      <th></th>\n",
       "      <th></th>\n",
       "      <th></th>\n",
       "      <th></th>\n",
       "      <th></th>\n",
       "      <th></th>\n",
       "    </tr>\n",
       "  </thead>\n",
       "  <tbody>\n",
       "    <tr>\n",
       "      <th>Weekday</th>\n",
       "      <td>547.0</td>\n",
       "      <td>28.340037</td>\n",
       "      <td>2.891428</td>\n",
       "      <td>24.0</td>\n",
       "      <td>26.0</td>\n",
       "      <td>28.0</td>\n",
       "      <td>31.0</td>\n",
       "      <td>33.0</td>\n",
       "    </tr>\n",
       "    <tr>\n",
       "      <th>Weekend</th>\n",
       "      <td>1351.0</td>\n",
       "      <td>22.470022</td>\n",
       "      <td>4.628938</td>\n",
       "      <td>15.0</td>\n",
       "      <td>18.5</td>\n",
       "      <td>22.0</td>\n",
       "      <td>27.0</td>\n",
       "      <td>30.0</td>\n",
       "    </tr>\n",
       "  </tbody>\n",
       "</table>\n",
       "</div>"
      ],
      "text/plain": [
       "                  count       mean       std   min   25%   50%   75%   max\n",
       "day_of_the_week                                                           \n",
       "Weekday           547.0  28.340037  2.891428  24.0  26.0  28.0  31.0  33.0\n",
       "Weekend          1351.0  22.470022  4.628938  15.0  18.5  22.0  27.0  30.0"
      ]
     },
     "execution_count": 244,
     "metadata": {},
     "output_type": "execute_result"
    }
   ],
   "source": [
    "orders_foodhub.groupby('day_of_the_week')['delivery_time'].describe()"
   ]
  },
  {
   "cell_type": "code",
   "execution_count": 384,
   "metadata": {},
   "outputs": [
    {
     "data": {
      "image/png": "[encoded data removed]",
      "text/plain": [
       "<Figure size 720x360 with 1 Axes>"
      ]
     },
     "metadata": {
      "needs_background": "light"
     },
     "output_type": "display_data"
    }
   ],
   "source": [
    "orders_foodhub.groupby('day_of_the_week')['delivery_time'].describe()[['mean', 'min', 'max']].plot(kind = 'bar'\n",
    ",figsize = (10, 5), title = 'DELIVERY TIME VS DAY OF THE WEEK',\n",
    "xlabel = 'DAY OF THE WEEK', ylabel = 'DELIVERY TIME (MINUTES)');"
   ]
  },
  {
   "cell_type": "markdown",
   "metadata": {},
   "source": [
    "##### OBSERVATION:\n",
    "- On average, it is faster to deliver customer orders durinf the weekend than during the weekday."
   ]
  },
  {
   "cell_type": "markdown",
   "metadata": {
    "id": "28L5vjZw2rdQ"
   },
   "source": [
    "#### Day of the Week vs Food Preparation time"
   ]
  },
  {
   "cell_type": "code",
   "execution_count": 269,
   "metadata": {},
   "outputs": [
    {
     "data": {
      "text/html": [
       "<div>\n",
       "<style scoped>\n",
       "    .dataframe tbody tr th:only-of-type {\n",
       "        vertical-align: middle;\n",
       "    }\n",
       "\n",
       "    .dataframe tbody tr th {\n",
       "        vertical-align: top;\n",
       "    }\n",
       "\n",
       "    .dataframe thead th {\n",
       "        text-align: right;\n",
       "    }\n",
       "</style>\n",
       "<table border=\"1\" class=\"dataframe\">\n",
       "  <thead>\n",
       "    <tr style=\"text-align: right;\">\n",
       "      <th></th>\n",
       "      <th>count</th>\n",
       "      <th>mean</th>\n",
       "      <th>std</th>\n",
       "      <th>min</th>\n",
       "      <th>25%</th>\n",
       "      <th>50%</th>\n",
       "      <th>75%</th>\n",
       "      <th>max</th>\n",
       "    </tr>\n",
       "    <tr>\n",
       "      <th>day_of_the_week</th>\n",
       "      <th></th>\n",
       "      <th></th>\n",
       "      <th></th>\n",
       "      <th></th>\n",
       "      <th></th>\n",
       "      <th></th>\n",
       "      <th></th>\n",
       "      <th></th>\n",
       "    </tr>\n",
       "  </thead>\n",
       "  <tbody>\n",
       "    <tr>\n",
       "      <th>Weekday</th>\n",
       "      <td>547.0</td>\n",
       "      <td>27.212066</td>\n",
       "      <td>4.708616</td>\n",
       "      <td>20.0</td>\n",
       "      <td>23.0</td>\n",
       "      <td>27.0</td>\n",
       "      <td>31.0</td>\n",
       "      <td>35.0</td>\n",
       "    </tr>\n",
       "    <tr>\n",
       "      <th>Weekend</th>\n",
       "      <td>1351.0</td>\n",
       "      <td>27.436714</td>\n",
       "      <td>4.601476</td>\n",
       "      <td>20.0</td>\n",
       "      <td>23.0</td>\n",
       "      <td>27.0</td>\n",
       "      <td>31.0</td>\n",
       "      <td>35.0</td>\n",
       "    </tr>\n",
       "  </tbody>\n",
       "</table>\n",
       "</div>"
      ],
      "text/plain": [
       "                  count       mean       std   min   25%   50%   75%   max\n",
       "day_of_the_week                                                           \n",
       "Weekday           547.0  27.212066  4.708616  20.0  23.0  27.0  31.0  35.0\n",
       "Weekend          1351.0  27.436714  4.601476  20.0  23.0  27.0  31.0  35.0"
      ]
     },
     "execution_count": 269,
     "metadata": {},
     "output_type": "execute_result"
    }
   ],
   "source": [
    "orders_foodhub.groupby('day_of_the_week')['food_preparation_time'].describe()"
   ]
  },
  {
   "cell_type": "code",
   "execution_count": 385,
   "metadata": {},
   "outputs": [
    {
     "data": {
      "image/png": "[encoded data removed]",
      "text/plain": [
       "<Figure size 720x360 with 1 Axes>"
      ]
     },
     "metadata": {
      "needs_background": "light"
     },
     "output_type": "display_data"
    }
   ],
   "source": [
    "orders_foodhub.groupby('day_of_the_week')['food_preparation_time'].describe()[['mean', 'min', 'max']].plot(kind = 'bar'\n",
    ",figsize = (10, 5), title = 'FOOD PREPARATION TIME VS DAY OF THE WEEK',\n",
    "xlabel = 'DAY OF THE WEEK', ylabel = 'PREPARATION TIME (MINUTES)');"
   ]
  },
  {
   "cell_type": "markdown",
   "metadata": {},
   "source": [
    "##### OBSERVATION:\n",
    "- On average, it takes almost the same time to prepare the foods, regardless of the day the order is coming in"
   ]
  },
  {
   "cell_type": "markdown",
   "metadata": {
    "id": "lu0o5GkQ2rdR"
   },
   "source": [
    "#### Rating vs Delivery time"
   ]
  },
  {
   "cell_type": "code",
   "execution_count": 276,
   "metadata": {},
   "outputs": [
    {
     "data": {
      "text/html": [
       "<div>\n",
       "<style scoped>\n",
       "    .dataframe tbody tr th:only-of-type {\n",
       "        vertical-align: middle;\n",
       "    }\n",
       "\n",
       "    .dataframe tbody tr th {\n",
       "        vertical-align: top;\n",
       "    }\n",
       "\n",
       "    .dataframe thead th {\n",
       "        text-align: right;\n",
       "    }\n",
       "</style>\n",
       "<table border=\"1\" class=\"dataframe\">\n",
       "  <thead>\n",
       "    <tr style=\"text-align: right;\">\n",
       "      <th></th>\n",
       "      <th>count</th>\n",
       "      <th>mean</th>\n",
       "      <th>std</th>\n",
       "      <th>min</th>\n",
       "      <th>25%</th>\n",
       "      <th>50%</th>\n",
       "      <th>75%</th>\n",
       "      <th>max</th>\n",
       "    </tr>\n",
       "    <tr>\n",
       "      <th>rating</th>\n",
       "      <th></th>\n",
       "      <th></th>\n",
       "      <th></th>\n",
       "      <th></th>\n",
       "      <th></th>\n",
       "      <th></th>\n",
       "      <th></th>\n",
       "      <th></th>\n",
       "    </tr>\n",
       "  </thead>\n",
       "  <tbody>\n",
       "    <tr>\n",
       "      <th>3</th>\n",
       "      <td>188.0</td>\n",
       "      <td>24.558511</td>\n",
       "      <td>4.652845</td>\n",
       "      <td>15.0</td>\n",
       "      <td>21.0</td>\n",
       "      <td>25.0</td>\n",
       "      <td>28.0</td>\n",
       "      <td>33.0</td>\n",
       "    </tr>\n",
       "    <tr>\n",
       "      <th>4</th>\n",
       "      <td>386.0</td>\n",
       "      <td>23.867876</td>\n",
       "      <td>4.923377</td>\n",
       "      <td>15.0</td>\n",
       "      <td>20.0</td>\n",
       "      <td>24.0</td>\n",
       "      <td>28.0</td>\n",
       "      <td>33.0</td>\n",
       "    </tr>\n",
       "    <tr>\n",
       "      <th>5</th>\n",
       "      <td>588.0</td>\n",
       "      <td>24.212585</td>\n",
       "      <td>5.018607</td>\n",
       "      <td>15.0</td>\n",
       "      <td>20.0</td>\n",
       "      <td>25.0</td>\n",
       "      <td>28.0</td>\n",
       "      <td>33.0</td>\n",
       "    </tr>\n",
       "    <tr>\n",
       "      <th>Not given</th>\n",
       "      <td>736.0</td>\n",
       "      <td>24.173913</td>\n",
       "      <td>5.041021</td>\n",
       "      <td>15.0</td>\n",
       "      <td>20.0</td>\n",
       "      <td>25.0</td>\n",
       "      <td>28.0</td>\n",
       "      <td>33.0</td>\n",
       "    </tr>\n",
       "  </tbody>\n",
       "</table>\n",
       "</div>"
      ],
      "text/plain": [
       "           count       mean       std   min   25%   50%   75%   max\n",
       "rating                                                             \n",
       "3          188.0  24.558511  4.652845  15.0  21.0  25.0  28.0  33.0\n",
       "4          386.0  23.867876  4.923377  15.0  20.0  24.0  28.0  33.0\n",
       "5          588.0  24.212585  5.018607  15.0  20.0  25.0  28.0  33.0\n",
       "Not given  736.0  24.173913  5.041021  15.0  20.0  25.0  28.0  33.0"
      ]
     },
     "execution_count": 276,
     "metadata": {},
     "output_type": "execute_result"
    }
   ],
   "source": [
    "orders_foodhub.groupby('rating')['delivery_time'].describe()"
   ]
  },
  {
   "cell_type": "code",
   "execution_count": 381,
   "metadata": {},
   "outputs": [
    {
     "data": {
      "image/png": "[encoded data removed]",
      "text/plain": [
       "<Figure size 720x360 with 1 Axes>"
      ]
     },
     "metadata": {
      "needs_background": "light"
     },
     "output_type": "display_data"
    }
   ],
   "source": [
    "orders_foodhub.groupby('rating')['delivery_time'].describe()[['mean', 'min', 'max']].plot(kind = 'bar'\n",
    ",figsize = (10, 5), title = 'DELIVERY TIME VS RATING',\n",
    "xlabel = 'RATING', ylabel = 'DELIVERY TIME (MINUTES)');"
   ]
  },
  {
   "cell_type": "markdown",
   "metadata": {},
   "source": [
    "##### OBSERVATION:\n",
    "- On average, the orders rated 4 have the fastest delivery time.\n",
    "- Orders not being rated have nothing to do with the delivery time  because, unrated orders have the second fastest delivery time. "
   ]
  },
  {
   "cell_type": "markdown",
   "metadata": {
    "id": "x1xcxS6h2rdS"
   },
   "source": [
    "#### Rating vs Cost of the order"
   ]
  },
  {
   "cell_type": "code",
   "execution_count": 280,
   "metadata": {},
   "outputs": [
    {
     "data": {
      "text/html": [
       "<div>\n",
       "<style scoped>\n",
       "    .dataframe tbody tr th:only-of-type {\n",
       "        vertical-align: middle;\n",
       "    }\n",
       "\n",
       "    .dataframe tbody tr th {\n",
       "        vertical-align: top;\n",
       "    }\n",
       "\n",
       "    .dataframe thead th {\n",
       "        text-align: right;\n",
       "    }\n",
       "</style>\n",
       "<table border=\"1\" class=\"dataframe\">\n",
       "  <thead>\n",
       "    <tr style=\"text-align: right;\">\n",
       "      <th></th>\n",
       "      <th>count</th>\n",
       "      <th>mean</th>\n",
       "      <th>std</th>\n",
       "      <th>min</th>\n",
       "      <th>25%</th>\n",
       "      <th>50%</th>\n",
       "      <th>75%</th>\n",
       "      <th>max</th>\n",
       "    </tr>\n",
       "    <tr>\n",
       "      <th>rating</th>\n",
       "      <th></th>\n",
       "      <th></th>\n",
       "      <th></th>\n",
       "      <th></th>\n",
       "      <th></th>\n",
       "      <th></th>\n",
       "      <th></th>\n",
       "      <th></th>\n",
       "    </tr>\n",
       "  </thead>\n",
       "  <tbody>\n",
       "    <tr>\n",
       "      <th>3</th>\n",
       "      <td>188.0</td>\n",
       "      <td>16.223351</td>\n",
       "      <td>7.840886</td>\n",
       "      <td>4.75</td>\n",
       "      <td>12.0425</td>\n",
       "      <td>14.120</td>\n",
       "      <td>21.8300</td>\n",
       "      <td>33.37</td>\n",
       "    </tr>\n",
       "    <tr>\n",
       "      <th>4</th>\n",
       "      <td>386.0</td>\n",
       "      <td>16.710337</td>\n",
       "      <td>7.632996</td>\n",
       "      <td>4.75</td>\n",
       "      <td>12.1300</td>\n",
       "      <td>14.160</td>\n",
       "      <td>22.7875</td>\n",
       "      <td>35.41</td>\n",
       "    </tr>\n",
       "    <tr>\n",
       "      <th>5</th>\n",
       "      <td>588.0</td>\n",
       "      <td>16.965697</td>\n",
       "      <td>7.448696</td>\n",
       "      <td>4.47</td>\n",
       "      <td>12.1300</td>\n",
       "      <td>15.205</td>\n",
       "      <td>22.8000</td>\n",
       "      <td>33.03</td>\n",
       "    </tr>\n",
       "    <tr>\n",
       "      <th>Not given</th>\n",
       "      <td>736.0</td>\n",
       "      <td>16.085340</td>\n",
       "      <td>7.327540</td>\n",
       "      <td>4.66</td>\n",
       "      <td>11.8275</td>\n",
       "      <td>14.070</td>\n",
       "      <td>21.5000</td>\n",
       "      <td>34.19</td>\n",
       "    </tr>\n",
       "  </tbody>\n",
       "</table>\n",
       "</div>"
      ],
      "text/plain": [
       "           count       mean       std   min      25%     50%      75%    max\n",
       "rating                                                                      \n",
       "3          188.0  16.223351  7.840886  4.75  12.0425  14.120  21.8300  33.37\n",
       "4          386.0  16.710337  7.632996  4.75  12.1300  14.160  22.7875  35.41\n",
       "5          588.0  16.965697  7.448696  4.47  12.1300  15.205  22.8000  33.03\n",
       "Not given  736.0  16.085340  7.327540  4.66  11.8275  14.070  21.5000  34.19"
      ]
     },
     "execution_count": 280,
     "metadata": {},
     "output_type": "execute_result"
    }
   ],
   "source": [
    "orders_foodhub.groupby('rating')['cost_of_the_order'].describe()"
   ]
  },
  {
   "cell_type": "code",
   "execution_count": 386,
   "metadata": {},
   "outputs": [
    {
     "data": {
      "image/png": "[encoded data removed]",
      "text/plain": [
       "<Figure size 720x360 with 1 Axes>"
      ]
     },
     "metadata": {
      "needs_background": "light"
     },
     "output_type": "display_data"
    }
   ],
   "source": [
    "orders_foodhub.groupby('rating')['cost_of_the_order'].describe()[['mean', 'min', 'max']].plot(kind = 'bar'\n",
    ",figsize = (10, 5), title = 'RATING VS COST OF ORDER',\n",
    "xlabel = 'RATING', ylabel = ' COST OF ORDER');"
   ]
  },
  {
   "cell_type": "markdown",
   "metadata": {},
   "source": [
    "##### OBSERVATION:\n",
    "- On average, the least costly orders are unrated.\n",
    "- Orders not being rated have nothing to do with the cost of order because, by default, if you get your orders at a lesser cost, you should rate the order well, at least."
   ]
  },
  {
   "cell_type": "markdown",
   "metadata": {
    "id": "N1ATzdSX2rdS"
   },
   "source": [
    "#### Correlation among variables"
   ]
  },
  {
   "cell_type": "code",
   "execution_count": 298,
   "metadata": {},
   "outputs": [
    {
     "data": {
      "text/html": [
       "<div>\n",
       "<style scoped>\n",
       "    .dataframe tbody tr th:only-of-type {\n",
       "        vertical-align: middle;\n",
       "    }\n",
       "\n",
       "    .dataframe tbody tr th {\n",
       "        vertical-align: top;\n",
       "    }\n",
       "\n",
       "    .dataframe thead th {\n",
       "        text-align: right;\n",
       "    }\n",
       "</style>\n",
       "<table border=\"1\" class=\"dataframe\">\n",
       "  <thead>\n",
       "    <tr style=\"text-align: right;\">\n",
       "      <th></th>\n",
       "      <th>order_id</th>\n",
       "      <th>customer_id</th>\n",
       "      <th>cost_of_the_order</th>\n",
       "      <th>food_preparation_time</th>\n",
       "      <th>delivery_time</th>\n",
       "    </tr>\n",
       "  </thead>\n",
       "  <tbody>\n",
       "    <tr>\n",
       "      <th>order_id</th>\n",
       "      <td>1.000000</td>\n",
       "      <td>-0.013960</td>\n",
       "      <td>0.021171</td>\n",
       "      <td>-0.007026</td>\n",
       "      <td>0.009690</td>\n",
       "    </tr>\n",
       "    <tr>\n",
       "      <th>customer_id</th>\n",
       "      <td>-0.013960</td>\n",
       "      <td>1.000000</td>\n",
       "      <td>-0.001322</td>\n",
       "      <td>-0.030330</td>\n",
       "      <td>-0.009885</td>\n",
       "    </tr>\n",
       "    <tr>\n",
       "      <th>cost_of_the_order</th>\n",
       "      <td>0.021171</td>\n",
       "      <td>-0.001322</td>\n",
       "      <td>1.000000</td>\n",
       "      <td>0.041527</td>\n",
       "      <td>-0.029949</td>\n",
       "    </tr>\n",
       "    <tr>\n",
       "      <th>food_preparation_time</th>\n",
       "      <td>-0.007026</td>\n",
       "      <td>-0.030330</td>\n",
       "      <td>0.041527</td>\n",
       "      <td>1.000000</td>\n",
       "      <td>0.011094</td>\n",
       "    </tr>\n",
       "    <tr>\n",
       "      <th>delivery_time</th>\n",
       "      <td>0.009690</td>\n",
       "      <td>-0.009885</td>\n",
       "      <td>-0.029949</td>\n",
       "      <td>0.011094</td>\n",
       "      <td>1.000000</td>\n",
       "    </tr>\n",
       "  </tbody>\n",
       "</table>\n",
       "</div>"
      ],
      "text/plain": [
       "                       order_id  customer_id  cost_of_the_order  \\\n",
       "order_id               1.000000    -0.013960           0.021171   \n",
       "customer_id           -0.013960     1.000000          -0.001322   \n",
       "cost_of_the_order      0.021171    -0.001322           1.000000   \n",
       "food_preparation_time -0.007026    -0.030330           0.041527   \n",
       "delivery_time          0.009690    -0.009885          -0.029949   \n",
       "\n",
       "                       food_preparation_time  delivery_time  \n",
       "order_id                           -0.007026       0.009690  \n",
       "customer_id                        -0.030330      -0.009885  \n",
       "cost_of_the_order                   0.041527      -0.029949  \n",
       "food_preparation_time               1.000000       0.011094  \n",
       "delivery_time                       0.011094       1.000000  "
      ]
     },
     "execution_count": 298,
     "metadata": {},
     "output_type": "execute_result"
    }
   ],
   "source": [
    "orders_foodhub.corr()"
   ]
  },
  {
   "cell_type": "code",
   "execution_count": 389,
   "metadata": {},
   "outputs": [
    {
     "data": {
      "image/png": "[encoded data removed]",
      "text/plain": [
       "<Figure size 432x288 with 2 Axes>"
      ]
     },
     "metadata": {
      "needs_background": "light"
     },
     "output_type": "display_data"
    }
   ],
   "source": [
    "sns.heatmap(orders_foodhub.corr(), annot = True);"
   ]
  },
  {
   "cell_type": "markdown",
   "metadata": {},
   "source": [
    "##### OBSERVATION:\n",
    "- The correlation between most of the variables are negative and very low.\n",
    "- So, rating, preparing time, delivery time, and order cost are not related."
   ]
  },
  {
   "cell_type": "markdown",
   "metadata": {
    "id": "YLkMf09YJY_V"
   },
   "source": [
    "### **Question 13:** The company wants to provide a promotional offer in the advertisement of the restaurants. The condition to get the offer is that the restaurants must have a rating count of more than 50 and the average rating should be greater than 4. Find the restaurants fulfilling the criteria to get the promotional offer."
   ]
  },
  {
   "cell_type": "code",
   "execution_count": 331,
   "metadata": {},
   "outputs": [
    {
     "data": {
      "text/html": [
       "<div>\n",
       "<style scoped>\n",
       "    .dataframe tbody tr th:only-of-type {\n",
       "        vertical-align: middle;\n",
       "    }\n",
       "\n",
       "    .dataframe tbody tr th {\n",
       "        vertical-align: top;\n",
       "    }\n",
       "\n",
       "    .dataframe thead th {\n",
       "        text-align: right;\n",
       "    }\n",
       "</style>\n",
       "<table border=\"1\" class=\"dataframe\">\n",
       "  <thead>\n",
       "    <tr style=\"text-align: right;\">\n",
       "      <th></th>\n",
       "      <th>key_0</th>\n",
       "      <th>rating_x</th>\n",
       "      <th>rating_y</th>\n",
       "    </tr>\n",
       "  </thead>\n",
       "  <tbody>\n",
       "    <tr>\n",
       "      <th>16</th>\n",
       "      <td>Blue Ribbon Fried Chicken</td>\n",
       "      <td>64</td>\n",
       "      <td>5.552274e+61</td>\n",
       "    </tr>\n",
       "    <tr>\n",
       "      <th>17</th>\n",
       "      <td>Blue Ribbon Sushi</td>\n",
       "      <td>73</td>\n",
       "      <td>6.089773e+70</td>\n",
       "    </tr>\n",
       "    <tr>\n",
       "      <th>117</th>\n",
       "      <td>Shake Shack</td>\n",
       "      <td>133</td>\n",
       "      <td>4.177018e+130</td>\n",
       "    </tr>\n",
       "    <tr>\n",
       "      <th>132</th>\n",
       "      <td>The Meatball Shop</td>\n",
       "      <td>84</td>\n",
       "      <td>6.494697e+81</td>\n",
       "    </tr>\n",
       "  </tbody>\n",
       "</table>\n",
       "</div>"
      ],
      "text/plain": [
       "                         key_0  rating_x       rating_y\n",
       "16   Blue Ribbon Fried Chicken        64   5.552274e+61\n",
       "17           Blue Ribbon Sushi        73   6.089773e+70\n",
       "117                Shake Shack       133  4.177018e+130\n",
       "132          The Meatball Shop        84   6.494697e+81"
      ]
     },
     "execution_count": 331,
     "metadata": {},
     "output_type": "execute_result"
    }
   ],
   "source": [
    "got_rated = orders_foodhub.drop(orders_foodhub[orders_foodhub['rating']=='Not given'].index)\n",
    "rest_pop = got_rated.groupby('restaurant_name')['rating'].count()\n",
    "rest_rating = got_rated.groupby('restaurant_name')['rating'].mean()\n",
    "\n",
    "rest = pd.merge(rest_pop, rest_rating, how = 'inner', on = rest_pop.index)\n",
    "\n",
    "rest[(rest['rating_x'] > 50) & (rest['rating_y'] > 4)]"
   ]
  },
  {
   "cell_type": "markdown",
   "metadata": {},
   "source": [
    "##### OBSERVATION:\n",
    "- There are 4 restaurants that qualify for the promotional offer. These restaurants have average rating greater than 4 and rating count more than 50. They are : Blue Ribbon Fried Chicken, Blue Ribbon Sushi, Shake Shack, The Meatball Shop."
   ]
  },
  {
   "cell_type": "markdown",
   "metadata": {
    "id": "1gvWBkRUJY_V"
   },
   "source": [
    "### **Question 14:** The company charges the restaurant 25% on the orders having cost greater than 20 dollars and 15% on the orders having cost greater than 5 dollars. Find the net revenue generated by the company across all orders."
   ]
  },
  {
   "cell_type": "code",
   "execution_count": 334,
   "metadata": {},
   "outputs": [
    {
     "data": {
      "text/plain": [
       "8379.54"
      ]
     },
     "execution_count": 334,
     "metadata": {},
     "output_type": "execute_result"
    }
   ],
   "source": [
    "percent_25  = orders_foodhub[orders_foodhub['cost_of_the_order']>20]['cost_of_the_order'].sum()*0.25\n",
    "percent_15  = orders_foodhub[orders_foodhub['cost_of_the_order']>5]['cost_of_the_order'].sum()*0.15\n",
    "net_revenue = percent_25 + percent_15\n",
    "round(net_revenue, 2)"
   ]
  },
  {
   "cell_type": "markdown",
   "metadata": {},
   "source": [
    "##### OBSERVATION:\n",
    "- The net revenue generated by the company across all orders is $8379.54\n"
   ]
  },
  {
   "cell_type": "markdown",
   "metadata": {
    "id": "pRlVW-oeJY_W"
   },
   "source": [
    "### **Question 15:** The company wants to analyze the total time required to deliver the food. What percentage of orders take more than 60 minutes to get delivered from the time the order is placed? (The food has to be prepared and then delivered.)"
   ]
  },
  {
   "cell_type": "code",
   "execution_count": 338,
   "metadata": {},
   "outputs": [
    {
     "data": {
      "text/plain": [
       "10.54"
      ]
     },
     "execution_count": 338,
     "metadata": {},
     "output_type": "execute_result"
    }
   ],
   "source": [
    "orders_foodhub['total_time'] = orders_foodhub['food_preparation_time'] + orders_foodhub['delivery_time']\n",
    "round(len(orders_foodhub[orders_foodhub['total_time']>60]) / len(orders_foodhub) * 100, 2)"
   ]
  },
  {
   "cell_type": "markdown",
   "metadata": {},
   "source": [
    "##### OBSERVATION:\n",
    "- 10.54% of the orders take more than 60 minutes to get delivered from the time the order is place."
   ]
  },
  {
   "cell_type": "markdown",
   "metadata": {
    "id": "bUd6cYpPJY_W"
   },
   "source": [
    "### **Question 16:** The company wants to analyze the delivery time of the orders on weekdays and weekends. How does the mean delivery time vary during weekdays and weekends?"
   ]
  },
  {
   "cell_type": "code",
   "execution_count": 365,
   "metadata": {},
   "outputs": [
    {
     "data": {
      "text/plain": [
       "day_of_the_week\n",
       "Weekday    28.340037\n",
       "Weekend    22.470022\n",
       "Name: delivery_time, dtype: float64"
      ]
     },
     "execution_count": 365,
     "metadata": {},
     "output_type": "execute_result"
    }
   ],
   "source": [
    "orders_foodhub.groupby(['day_of_the_week'])['delivery_time'].mean()\n"
   ]
  },
  {
   "cell_type": "code",
   "execution_count": 343,
   "metadata": {},
   "outputs": [
    {
     "data": {
      "text/plain": [
       "5.87"
      ]
     },
     "execution_count": 343,
     "metadata": {},
     "output_type": "execute_result"
    }
   ],
   "source": [
    "weekday_deliv_time = orders_foodhub[orders_foodhub['day_of_the_week']=='Weekday']['delivery_time'].mean() \n",
    "weekend_deliv_time = orders_foodhub[orders_foodhub['day_of_the_week']=='Weekend']['delivery_time'].mean()\n",
    "round(weekday_deliv_time - weekend_deliv_time, 2)"
   ]
  },
  {
   "cell_type": "markdown",
   "metadata": {},
   "source": [
    "##### OBSERVATION:\n",
    "- The average delivery time during the weekday is 28.34 Minutes.\n",
    "- The average delivery time during the weekend is 22.47 Minutes.\n",
    "- The difference between the delivery time during the weekday and weekend is 5.87 Minutes."
   ]
  },
  {
   "cell_type": "markdown",
   "metadata": {
    "id": "17roJywaJY_W"
   },
   "source": [
    "### Conclusion and Recommendations"
   ]
  },
  {
   "cell_type": "markdown",
   "metadata": {
    "id": "ZdX2Wz4FJY_W"
   },
   "source": [
    "### **Question 17:** What are your conclusions from the analysis? What recommendations would you like to share to help improve the business? (You can use cuisine type and feedback ratings to drive your business recommendations.)"
   ]
  },
  {
   "cell_type": "code",
   "execution_count": 425,
   "metadata": {},
   "outputs": [
    {
     "data": {
      "text/html": [
       "<div>\n",
       "<style scoped>\n",
       "    .dataframe tbody tr th:only-of-type {\n",
       "        vertical-align: middle;\n",
       "    }\n",
       "\n",
       "    .dataframe tbody tr th {\n",
       "        vertical-align: top;\n",
       "    }\n",
       "\n",
       "    .dataframe thead th {\n",
       "        text-align: right;\n",
       "    }\n",
       "</style>\n",
       "<table border=\"1\" class=\"dataframe\">\n",
       "  <thead>\n",
       "    <tr style=\"text-align: right;\">\n",
       "      <th></th>\n",
       "      <th>key_0</th>\n",
       "      <th>count</th>\n",
       "      <th>mean_x</th>\n",
       "      <th>mean_y</th>\n",
       "    </tr>\n",
       "  </thead>\n",
       "  <tbody>\n",
       "    <tr>\n",
       "      <th>0</th>\n",
       "      <td>American</td>\n",
       "      <td>368</td>\n",
       "      <td>inf</td>\n",
       "      <td>27.388587</td>\n",
       "    </tr>\n",
       "    <tr>\n",
       "      <th>1</th>\n",
       "      <td>Chinese</td>\n",
       "      <td>133</td>\n",
       "      <td>3.425146e+130</td>\n",
       "      <td>27.977444</td>\n",
       "    </tr>\n",
       "    <tr>\n",
       "      <th>2</th>\n",
       "      <td>French</td>\n",
       "      <td>10</td>\n",
       "      <td>3.455553e+08</td>\n",
       "      <td>26.600000</td>\n",
       "    </tr>\n",
       "    <tr>\n",
       "      <th>3</th>\n",
       "      <td>Indian</td>\n",
       "      <td>50</td>\n",
       "      <td>7.110911e+47</td>\n",
       "      <td>26.280000</td>\n",
       "    </tr>\n",
       "    <tr>\n",
       "      <th>4</th>\n",
       "      <td>Italian</td>\n",
       "      <td>172</td>\n",
       "      <td>3.224149e+169</td>\n",
       "      <td>27.627907</td>\n",
       "    </tr>\n",
       "    <tr>\n",
       "      <th>5</th>\n",
       "      <td>Japanese</td>\n",
       "      <td>273</td>\n",
       "      <td>1.631998e+270</td>\n",
       "      <td>27.652015</td>\n",
       "    </tr>\n",
       "    <tr>\n",
       "      <th>6</th>\n",
       "      <td>Korean</td>\n",
       "      <td>9</td>\n",
       "      <td>3.816061e+07</td>\n",
       "      <td>25.333333</td>\n",
       "    </tr>\n",
       "    <tr>\n",
       "      <th>7</th>\n",
       "      <td>Mediterranean</td>\n",
       "      <td>32</td>\n",
       "      <td>1.041736e+30</td>\n",
       "      <td>27.875000</td>\n",
       "    </tr>\n",
       "    <tr>\n",
       "      <th>8</th>\n",
       "      <td>Mexican</td>\n",
       "      <td>48</td>\n",
       "      <td>1.155115e+46</td>\n",
       "      <td>25.854167</td>\n",
       "    </tr>\n",
       "    <tr>\n",
       "      <th>9</th>\n",
       "      <td>Middle Eastern</td>\n",
       "      <td>34</td>\n",
       "      <td>1.601310e+32</td>\n",
       "      <td>26.676471</td>\n",
       "    </tr>\n",
       "    <tr>\n",
       "      <th>10</th>\n",
       "      <td>Southern</td>\n",
       "      <td>13</td>\n",
       "      <td>4.265035e+11</td>\n",
       "      <td>27.153846</td>\n",
       "    </tr>\n",
       "    <tr>\n",
       "      <th>11</th>\n",
       "      <td>Spanish</td>\n",
       "      <td>6</td>\n",
       "      <td>9.242583e+04</td>\n",
       "      <td>25.333333</td>\n",
       "    </tr>\n",
       "    <tr>\n",
       "      <th>12</th>\n",
       "      <td>Thai</td>\n",
       "      <td>9</td>\n",
       "      <td>6.060606e+07</td>\n",
       "      <td>26.888889</td>\n",
       "    </tr>\n",
       "    <tr>\n",
       "      <th>13</th>\n",
       "      <td>Vietnamese</td>\n",
       "      <td>5</td>\n",
       "      <td>1.106680e+04</td>\n",
       "      <td>24.200000</td>\n",
       "    </tr>\n",
       "  </tbody>\n",
       "</table>\n",
       "</div>"
      ],
      "text/plain": [
       "             key_0  count         mean_x     mean_y\n",
       "0         American    368            inf  27.388587\n",
       "1          Chinese    133  3.425146e+130  27.977444\n",
       "2           French     10   3.455553e+08  26.600000\n",
       "3           Indian     50   7.110911e+47  26.280000\n",
       "4          Italian    172  3.224149e+169  27.627907\n",
       "5         Japanese    273  1.631998e+270  27.652015\n",
       "6           Korean      9   3.816061e+07  25.333333\n",
       "7    Mediterranean     32   1.041736e+30  27.875000\n",
       "8          Mexican     48   1.155115e+46  25.854167\n",
       "9   Middle Eastern     34   1.601310e+32  26.676471\n",
       "10        Southern     13   4.265035e+11  27.153846\n",
       "11         Spanish      6   9.242583e+04  25.333333\n",
       "12            Thai      9   6.060606e+07  26.888889\n",
       "13      Vietnamese      5   1.106680e+04  24.200000"
      ]
     },
     "execution_count": 425,
     "metadata": {},
     "output_type": "execute_result"
    }
   ],
   "source": [
    "#Cuisine Type and Rating\n",
    "cuisine_ratings = rated_orders.groupby('cuisine_type')['rating'].agg(['count','mean'])\n",
    "cuisine_prep_time = rated_orders.groupby('cuisine_type')['food_preparation_time'].agg(['mean'])\n",
    "\n",
    "\n",
    "cuisine_perf = pd.merge(cuisine_ratings, cuisine_prep_time, how = 'inner', on = cuisine_ratings.index)\n",
    "cuisine_perf"
   ]
  },
  {
   "cell_type": "markdown",
   "metadata": {},
   "source": [
    "##### CONCLUSION:\n",
    "- The top 4 cuisine which customers order the most include American, Japanese, Italian, and Chinese. The Vietnames cuisine is least popular cuisine.\n",
    "- The Shake Shack, The Meatball Shop and Blue Ribbon Sushi are the most three popular restaurants.\n",
    "- Mostly, customers order only one or two times with the app. The app does not have many loyal customers.\n",
    "- People dont order expensive food or make big orders for delivery with this app.\n",
    "- There are lots of orders placed in weekend more than weekdays.\n",
    "- The customers are pretty much satisfied with their orders. There is no bad ratings (1 or 2 stars).\n",
    "- The average rating of the restaurants is 4.3\n",
    "- It takes minimun 20 minutes and maxinum 35 minutes to get the food ready for delivery which is quite high.\n",
    "- The average delivery time is around 24 minutes. There is no outliers for delivery time.\n",
    "- French and Southern restaurants have the highest average cost of order. The Vietnames restaurants are offering the lowest average cost of order.\n",
    "- The American restaurants earn the most revenue, followed by Japanese and Italian. The Vietnamese restaurants earn the least revenue.\n",
    "- Total revenue earned from all restaurant at weekend is more than two times compared to revenue earned at week days.\n",
    "- The delivery time in weekdays is longer than weekends. The delivery time pattern is almost same between those restaurants.\n",
    "- The correlations are so low (including negatives) between those variables: rating, preparing time, delivery time, and order cost. This is to show that the variables are not correlated\n",
    "\n",
    "##### RECOMMENNDATIONS:\n",
    "- Customers prefer the most 4 cuisine include American, Italian, Chinese, and Japanese. Also, those are cuisines which bring the most order and most revenue in the app. So the company should try to push more sales by bringing more new customers and maintaining current customers to gain more revenue.\n",
    "- Customers dont place the big order within the app (max order around 35USD). Since The Shake Shack, The Meatball Shop and Blue Ribbon Sushi are the most popular restaurants, the company can push more sales and earn more profit by creating promotion/reward programs to encourage customers making big orders.\n",
    "- Rating is important for a business. To help impove the qualification of services and push more sales, the company should find a way to encourage all the customers rate like making the rating process easier, faster and more convinient.\n",
    "- Restaurants can improve customer's satisfication and earn more revenue by reducing the time for preparing food. The company can encourage restaurants to make food quicker by giving them a lower charges on orders make fast with high ratings.\n",
    "- The app does not have many loyal customers. So the company should work on how to keep customers using its app ordering food. For example, the company can create a reward system like giving the customers some points based on numbers and cost of the orders, when the points reach at some level, customers can get a discount coupon or free meals.\n",
    "- Delivery time is quite high in weekdays, so the company should work with the delivery parties to fix this problem.\n",
    "- The company may also attract/introduce customers with restaurants/cuisines which are having low volumn (Vietnames, Thai, Spainish) by giving away the first orders or discount promotions.\n"
   ]
  }
 ],
 "metadata": {
  "colab": {
   "collapsed_sections": [],
   "name": "PYF_Project_LearnerNotebook_FullCode.ipynb",
   "provenance": []
  },
  "kernelspec": {
   "display_name": "Python 3 (ipykernel)",
   "language": "python",
   "name": "python3"
  },
  "language_info": {
   "codemirror_mode": {
    "name": "ipython",
    "version": 3
   },
   "file_extension": ".py",
   "mimetype": "text/x-python",
   "name": "python",
   "nbconvert_exporter": "python",
   "pygments_lexer": "ipython3",
   "version": "3.9.7"
  }
 },
 "nbformat": 4,
 "nbformat_minor": 1
}
